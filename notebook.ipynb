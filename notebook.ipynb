{
 "cells": [
  {
   "cell_type": "markdown",
   "metadata": {
    "id": "uSIWCqrYmFED"
   },
   "source": [
    "#  IF4140 | EDA"
   ]
  },
  {
   "cell_type": "markdown",
   "metadata": {
    "id": "h7GBlbj5mFEE"
   },
   "source": [
    "Group Members:\n",
    "- Muhammad Fadli Alfarizi (13121140)\n",
    "- Aji Andhika Falah (13520012)\n"
   ]
  },
  {
   "cell_type": "markdown",
   "metadata": {
    "id": "0h-OTlV0mFEE"
   },
   "source": [
    "## Import Libraries"
   ]
  },
  {
   "cell_type": "code",
   "execution_count": 17,
   "metadata": {
    "ExecuteTime": {
     "end_time": "2024-12-17T03:53:59.687725Z",
     "start_time": "2024-12-17T03:53:59.684142Z"
    },
    "id": "6HiGhI10mFEE"
   },
   "outputs": [],
   "source": [
    "import pandas as pd\n",
    "\n",
    "import matplotlib.pyplot as plt\n",
    "import seaborn as sns\n",
    "import numpy as np\n",
    "\n",
    "from prefixspan import PrefixSpan\n",
    "from pymining import seqmining\n",
    "from scipy.stats import skew, kurtosis\n",
    "from collections import Counter"
   ]
  },
  {
   "cell_type": "markdown",
   "metadata": {
    "id": "ugTwxRyfmFEF"
   },
   "source": [
    "## Import Dataset"
   ]
  },
  {
   "cell_type": "code",
   "execution_count": 27,
   "metadata": {
    "ExecuteTime": {
     "end_time": "2024-12-17T03:13:57.307720Z",
     "start_time": "2024-12-17T03:13:37.590792Z"
    }
   },
   "outputs": [
    {
     "data": {
      "text/html": [
       "<div>\n",
       "<style scoped>\n",
       "    .dataframe tbody tr th:only-of-type {\n",
       "        vertical-align: middle;\n",
       "    }\n",
       "\n",
       "    .dataframe tbody tr th {\n",
       "        vertical-align: top;\n",
       "    }\n",
       "\n",
       "    .dataframe thead th {\n",
       "        text-align: right;\n",
       "    }\n",
       "</style>\n",
       "<table border=\"1\" class=\"dataframe\">\n",
       "  <thead>\n",
       "    <tr style=\"text-align: right;\">\n",
       "      <th></th>\n",
       "      <th>TransactionNo</th>\n",
       "      <th>Date</th>\n",
       "      <th>ProductNo</th>\n",
       "      <th>ProductName</th>\n",
       "      <th>Price</th>\n",
       "      <th>Quantity</th>\n",
       "      <th>CustomerNo</th>\n",
       "      <th>Country</th>\n",
       "    </tr>\n",
       "  </thead>\n",
       "  <tbody>\n",
       "    <tr>\n",
       "      <th>0</th>\n",
       "      <td>581482</td>\n",
       "      <td>1575849600</td>\n",
       "      <td>22485</td>\n",
       "      <td>Set Of 2 Wooden Market Crates</td>\n",
       "      <td>21.47</td>\n",
       "      <td>12</td>\n",
       "      <td>17490.0</td>\n",
       "      <td>United Kingdom</td>\n",
       "    </tr>\n",
       "    <tr>\n",
       "      <th>1</th>\n",
       "      <td>581475</td>\n",
       "      <td>1575849600</td>\n",
       "      <td>22596</td>\n",
       "      <td>Christmas Star Wish List Chalkboard</td>\n",
       "      <td>10.65</td>\n",
       "      <td>36</td>\n",
       "      <td>13069.0</td>\n",
       "      <td>United Kingdom</td>\n",
       "    </tr>\n",
       "    <tr>\n",
       "      <th>2</th>\n",
       "      <td>581475</td>\n",
       "      <td>1575849600</td>\n",
       "      <td>23235</td>\n",
       "      <td>Storage Tin Vintage Leaf</td>\n",
       "      <td>11.53</td>\n",
       "      <td>12</td>\n",
       "      <td>13069.0</td>\n",
       "      <td>United Kingdom</td>\n",
       "    </tr>\n",
       "    <tr>\n",
       "      <th>3</th>\n",
       "      <td>581475</td>\n",
       "      <td>1575849600</td>\n",
       "      <td>23272</td>\n",
       "      <td>Tree T-Light Holder Willie Winkie</td>\n",
       "      <td>10.65</td>\n",
       "      <td>12</td>\n",
       "      <td>13069.0</td>\n",
       "      <td>United Kingdom</td>\n",
       "    </tr>\n",
       "    <tr>\n",
       "      <th>4</th>\n",
       "      <td>581475</td>\n",
       "      <td>1575849600</td>\n",
       "      <td>23239</td>\n",
       "      <td>Set Of 4 Knick Knack Tins Poppies</td>\n",
       "      <td>11.94</td>\n",
       "      <td>6</td>\n",
       "      <td>13069.0</td>\n",
       "      <td>United Kingdom</td>\n",
       "    </tr>\n",
       "  </tbody>\n",
       "</table>\n",
       "</div>"
      ],
      "text/plain": [
       "  TransactionNo        Date ProductNo                          ProductName  \\\n",
       "0        581482  1575849600     22485        Set Of 2 Wooden Market Crates   \n",
       "1        581475  1575849600     22596  Christmas Star Wish List Chalkboard   \n",
       "2        581475  1575849600     23235             Storage Tin Vintage Leaf   \n",
       "3        581475  1575849600     23272    Tree T-Light Holder Willie Winkie   \n",
       "4        581475  1575849600     23239    Set Of 4 Knick Knack Tins Poppies   \n",
       "\n",
       "   Price  Quantity  CustomerNo         Country  \n",
       "0  21.47        12     17490.0  United Kingdom  \n",
       "1  10.65        36     13069.0  United Kingdom  \n",
       "2  11.53        12     13069.0  United Kingdom  \n",
       "3  10.65        12     13069.0  United Kingdom  \n",
       "4  11.94         6     13069.0  United Kingdom  "
      ]
     },
     "execution_count": 27,
     "metadata": {},
     "output_type": "execute_result"
    }
   ],
   "source": [
    "df = pd.read_csv('https://drive.google.com/uc?id=1mIMT-kzQiyS5U5gHTA1V70Pvs7ya6dJ8', nrows=30000)\n",
    "\n",
    "df.reset_index(drop=True, inplace=True)\n",
    "\n",
    "df['Date'] = pd.to_datetime(df['Date'], format='%m/%d/%Y')\n",
    "df['Date'] = df['Date'].astype('int64') // 10 ** 9\n",
    "\n",
    "df.head()"
   ]
  },
  {
   "cell_type": "markdown",
   "metadata": {},
   "source": [
    "## 1. EDA"
   ]
  },
  {
   "cell_type": "code",
   "execution_count": 28,
   "metadata": {
    "ExecuteTime": {
     "end_time": "2024-12-17T03:13:57.477720Z",
     "start_time": "2024-12-17T03:13:57.359063Z"
    }
   },
   "outputs": [
    {
     "name": "stdout",
     "output_type": "stream",
     "text": [
      "<class 'pandas.core.frame.DataFrame'>\n",
      "RangeIndex: 30000 entries, 0 to 29999\n",
      "Data columns (total 8 columns):\n",
      " #   Column         Non-Null Count  Dtype  \n",
      "---  ------         --------------  -----  \n",
      " 0   TransactionNo  30000 non-null  object \n",
      " 1   Date           30000 non-null  int64  \n",
      " 2   ProductNo      30000 non-null  object \n",
      " 3   ProductName    30000 non-null  object \n",
      " 4   Price          30000 non-null  float64\n",
      " 5   Quantity       30000 non-null  int64  \n",
      " 6   CustomerNo     29998 non-null  float64\n",
      " 7   Country        30000 non-null  object \n",
      "dtypes: float64(2), int64(2), object(4)\n",
      "memory usage: 1.8+ MB\n",
      "\n",
      "shape: (30000, 8)\n"
     ]
    }
   ],
   "source": [
    "df.info()\n",
    "\n",
    "print(f\"\\nshape: {df.shape}\")"
   ]
  },
  {
   "cell_type": "code",
   "execution_count": 29,
   "metadata": {
    "ExecuteTime": {
     "end_time": "2024-12-17T03:13:57.761831Z",
     "start_time": "2024-12-17T03:13:57.601184Z"
    }
   },
   "outputs": [
    {
     "name": "stdout",
     "output_type": "stream",
     "text": [
      "TransactionNo    0\n",
      "Date             0\n",
      "ProductNo        0\n",
      "ProductName      0\n",
      "Price            0\n",
      "Quantity         0\n",
      "CustomerNo       2\n",
      "Country          0\n",
      "dtype: int64\n",
      "\n",
      "number of missing values: 2\n"
     ]
    }
   ],
   "source": [
    "# check missing values\n",
    "\n",
    "print(df.isnull().sum())\n",
    "\n",
    "print(f\"\\nnumber of missing values: {df.isnull().sum().sum()}\")"
   ]
  },
  {
   "cell_type": "code",
   "execution_count": 30,
   "metadata": {
    "ExecuteTime": {
     "end_time": "2024-12-17T03:13:58.010887Z",
     "start_time": "2024-12-17T03:13:57.773802Z"
    }
   },
   "outputs": [
    {
     "name": "stdout",
     "output_type": "stream",
     "text": [
      "number of duplicates 213\n"
     ]
    }
   ],
   "source": [
    "# check number of duplicates\n",
    "\n",
    "print(f\"number of duplicates {df.duplicated().sum()}\")"
   ]
  },
  {
   "cell_type": "code",
   "execution_count": 31,
   "metadata": {
    "ExecuteTime": {
     "end_time": "2024-12-17T03:13:58.159516Z",
     "start_time": "2024-12-17T03:13:58.022245Z"
    }
   },
   "outputs": [
    {
     "name": "stdout",
     "output_type": "stream",
     "text": [
      "number of cancelled orders: 422\n",
      "number of cancelled orders: 178\n"
     ]
    }
   ],
   "source": [
    "# check number of cancelled orders based on 'TransactionNo'\n",
    "print(f\"number of cancelled orders: {df['TransactionNo'].str.contains('C').sum()}\")\n",
    "\n",
    "# check number of cancelled orders based on -1 on 'Quantity'\n",
    "print(f\"number of cancelled orders: {df[df['Quantity'] == -1].shape[0]}\")\n"
   ]
  },
  {
   "cell_type": "code",
   "execution_count": 32,
   "metadata": {
    "ExecuteTime": {
     "end_time": "2024-12-17T03:13:58.297552Z",
     "start_time": "2024-12-17T03:13:58.186210Z"
    }
   },
   "outputs": [
    {
     "data": {
      "text/html": [
       "<div>\n",
       "<style scoped>\n",
       "    .dataframe tbody tr th:only-of-type {\n",
       "        vertical-align: middle;\n",
       "    }\n",
       "\n",
       "    .dataframe tbody tr th {\n",
       "        vertical-align: top;\n",
       "    }\n",
       "\n",
       "    .dataframe thead th {\n",
       "        text-align: right;\n",
       "    }\n",
       "</style>\n",
       "<table border=\"1\" class=\"dataframe\">\n",
       "  <thead>\n",
       "    <tr style=\"text-align: right;\">\n",
       "      <th></th>\n",
       "      <th>TransactionNo</th>\n",
       "      <th>Date</th>\n",
       "      <th>ProductNo</th>\n",
       "      <th>ProductName</th>\n",
       "      <th>Price</th>\n",
       "      <th>Quantity</th>\n",
       "      <th>CustomerNo</th>\n",
       "      <th>Country</th>\n",
       "    </tr>\n",
       "  </thead>\n",
       "  <tbody>\n",
       "    <tr>\n",
       "      <th>142</th>\n",
       "      <td>581483</td>\n",
       "      <td>1575849600</td>\n",
       "      <td>23843</td>\n",
       "      <td>Paper Craft Little Birdie</td>\n",
       "      <td>12.38</td>\n",
       "      <td>80995</td>\n",
       "      <td>16446.0</td>\n",
       "      <td>United Kingdom</td>\n",
       "    </tr>\n",
       "    <tr>\n",
       "      <th>6288</th>\n",
       "      <td>581458</td>\n",
       "      <td>1575763200</td>\n",
       "      <td>22197</td>\n",
       "      <td>Popcorn Holder</td>\n",
       "      <td>6.04</td>\n",
       "      <td>1500</td>\n",
       "      <td>17949.0</td>\n",
       "      <td>United Kingdom</td>\n",
       "    </tr>\n",
       "    <tr>\n",
       "      <th>21660</th>\n",
       "      <td>580363</td>\n",
       "      <td>1575244800</td>\n",
       "      <td>23582</td>\n",
       "      <td>Vintage Doily Jumbo Bag Red</td>\n",
       "      <td>6.19</td>\n",
       "      <td>1500</td>\n",
       "      <td>13868.0</td>\n",
       "      <td>United Kingdom</td>\n",
       "    </tr>\n",
       "    <tr>\n",
       "      <th>8560</th>\n",
       "      <td>581175</td>\n",
       "      <td>1575676800</td>\n",
       "      <td>23084</td>\n",
       "      <td>Rabbit Night Light</td>\n",
       "      <td>6.19</td>\n",
       "      <td>1440</td>\n",
       "      <td>14646.0</td>\n",
       "      <td>Netherlands</td>\n",
       "    </tr>\n",
       "    <tr>\n",
       "      <th>7445</th>\n",
       "      <td>581115</td>\n",
       "      <td>1575676800</td>\n",
       "      <td>22413</td>\n",
       "      <td>Metal Sign Take It Or Leave It</td>\n",
       "      <td>6.19</td>\n",
       "      <td>1404</td>\n",
       "      <td>15195.0</td>\n",
       "      <td>United Kingdom</td>\n",
       "    </tr>\n",
       "    <tr>\n",
       "      <th>...</th>\n",
       "      <td>...</td>\n",
       "      <td>...</td>\n",
       "      <td>...</td>\n",
       "      <td>...</td>\n",
       "      <td>...</td>\n",
       "      <td>...</td>\n",
       "      <td>...</td>\n",
       "      <td>...</td>\n",
       "    </tr>\n",
       "    <tr>\n",
       "      <th>12238</th>\n",
       "      <td>C580913</td>\n",
       "      <td>1575590400</td>\n",
       "      <td>22536</td>\n",
       "      <td>Magic Drawing Slate Purdey</td>\n",
       "      <td>6.19</td>\n",
       "      <td>-120</td>\n",
       "      <td>17857.0</td>\n",
       "      <td>United Kingdom</td>\n",
       "    </tr>\n",
       "    <tr>\n",
       "      <th>6511</th>\n",
       "      <td>C581406</td>\n",
       "      <td>1575763200</td>\n",
       "      <td>46000M</td>\n",
       "      <td>Polyester Filler Pad 45x45cm</td>\n",
       "      <td>6.19</td>\n",
       "      <td>-240</td>\n",
       "      <td>NaN</td>\n",
       "      <td>United Kingdom</td>\n",
       "    </tr>\n",
       "    <tr>\n",
       "      <th>12294</th>\n",
       "      <td>C580971</td>\n",
       "      <td>1575590400</td>\n",
       "      <td>22313</td>\n",
       "      <td>Office Mug Warmer Pink</td>\n",
       "      <td>6.19</td>\n",
       "      <td>-250</td>\n",
       "      <td>14298.0</td>\n",
       "      <td>United Kingdom</td>\n",
       "    </tr>\n",
       "    <tr>\n",
       "      <th>6512</th>\n",
       "      <td>C581406</td>\n",
       "      <td>1575763200</td>\n",
       "      <td>46000S</td>\n",
       "      <td>Polyester Filler Pad 40x40cm</td>\n",
       "      <td>6.19</td>\n",
       "      <td>-300</td>\n",
       "      <td>NaN</td>\n",
       "      <td>United Kingdom</td>\n",
       "    </tr>\n",
       "    <tr>\n",
       "      <th>1616</th>\n",
       "      <td>C581484</td>\n",
       "      <td>1575849600</td>\n",
       "      <td>23843</td>\n",
       "      <td>Paper Craft Little Birdie</td>\n",
       "      <td>6.19</td>\n",
       "      <td>-80995</td>\n",
       "      <td>16446.0</td>\n",
       "      <td>United Kingdom</td>\n",
       "    </tr>\n",
       "  </tbody>\n",
       "</table>\n",
       "<p>30000 rows × 8 columns</p>\n",
       "</div>"
      ],
      "text/plain": [
       "      TransactionNo        Date ProductNo                     ProductName  \\\n",
       "142          581483  1575849600     23843       Paper Craft Little Birdie   \n",
       "6288         581458  1575763200     22197                  Popcorn Holder   \n",
       "21660        580363  1575244800     23582     Vintage Doily Jumbo Bag Red   \n",
       "8560         581175  1575676800     23084              Rabbit Night Light   \n",
       "7445         581115  1575676800     22413  Metal Sign Take It Or Leave It   \n",
       "...             ...         ...       ...                             ...   \n",
       "12238       C580913  1575590400     22536      Magic Drawing Slate Purdey   \n",
       "6511        C581406  1575763200    46000M    Polyester Filler Pad 45x45cm   \n",
       "12294       C580971  1575590400     22313          Office Mug Warmer Pink   \n",
       "6512        C581406  1575763200    46000S    Polyester Filler Pad 40x40cm   \n",
       "1616        C581484  1575849600     23843       Paper Craft Little Birdie   \n",
       "\n",
       "       Price  Quantity  CustomerNo         Country  \n",
       "142    12.38     80995     16446.0  United Kingdom  \n",
       "6288    6.04      1500     17949.0  United Kingdom  \n",
       "21660   6.19      1500     13868.0  United Kingdom  \n",
       "8560    6.19      1440     14646.0     Netherlands  \n",
       "7445    6.19      1404     15195.0  United Kingdom  \n",
       "...      ...       ...         ...             ...  \n",
       "12238   6.19      -120     17857.0  United Kingdom  \n",
       "6511    6.19      -240         NaN  United Kingdom  \n",
       "12294   6.19      -250     14298.0  United Kingdom  \n",
       "6512    6.19      -300         NaN  United Kingdom  \n",
       "1616    6.19    -80995     16446.0  United Kingdom  \n",
       "\n",
       "[30000 rows x 8 columns]"
      ]
     },
     "execution_count": 32,
     "metadata": {},
     "output_type": "execute_result"
    }
   ],
   "source": [
    "\"\"\"\n",
    "There is a transaction with 80k 'Quantity'\n",
    "\"\"\"\n",
    "\n",
    "df.sort_values('Quantity', ascending=False)"
   ]
  },
  {
   "cell_type": "code",
   "execution_count": 33,
   "metadata": {
    "ExecuteTime": {
     "end_time": "2024-12-17T03:13:58.488934Z",
     "start_time": "2024-12-17T03:13:58.463469Z"
    }
   },
   "outputs": [
    {
     "data": {
      "text/html": [
       "<div>\n",
       "<style scoped>\n",
       "    .dataframe tbody tr th:only-of-type {\n",
       "        vertical-align: middle;\n",
       "    }\n",
       "\n",
       "    .dataframe tbody tr th {\n",
       "        vertical-align: top;\n",
       "    }\n",
       "\n",
       "    .dataframe thead th {\n",
       "        text-align: right;\n",
       "    }\n",
       "</style>\n",
       "<table border=\"1\" class=\"dataframe\">\n",
       "  <thead>\n",
       "    <tr style=\"text-align: right;\">\n",
       "      <th></th>\n",
       "      <th>TransactionNo</th>\n",
       "      <th>Date</th>\n",
       "      <th>ProductNo</th>\n",
       "      <th>ProductName</th>\n",
       "      <th>Price</th>\n",
       "      <th>Quantity</th>\n",
       "      <th>CustomerNo</th>\n",
       "      <th>Country</th>\n",
       "    </tr>\n",
       "  </thead>\n",
       "  <tbody>\n",
       "    <tr>\n",
       "      <th>1616</th>\n",
       "      <td>C581484</td>\n",
       "      <td>1575849600</td>\n",
       "      <td>23843</td>\n",
       "      <td>Paper Craft Little Birdie</td>\n",
       "      <td>6.19</td>\n",
       "      <td>-80995</td>\n",
       "      <td>16446.0</td>\n",
       "      <td>United Kingdom</td>\n",
       "    </tr>\n",
       "    <tr>\n",
       "      <th>6512</th>\n",
       "      <td>C581406</td>\n",
       "      <td>1575763200</td>\n",
       "      <td>46000S</td>\n",
       "      <td>Polyester Filler Pad 40x40cm</td>\n",
       "      <td>6.19</td>\n",
       "      <td>-300</td>\n",
       "      <td>NaN</td>\n",
       "      <td>United Kingdom</td>\n",
       "    </tr>\n",
       "    <tr>\n",
       "      <th>12294</th>\n",
       "      <td>C580971</td>\n",
       "      <td>1575590400</td>\n",
       "      <td>22313</td>\n",
       "      <td>Office Mug Warmer Pink</td>\n",
       "      <td>6.19</td>\n",
       "      <td>-250</td>\n",
       "      <td>14298.0</td>\n",
       "      <td>United Kingdom</td>\n",
       "    </tr>\n",
       "    <tr>\n",
       "      <th>6511</th>\n",
       "      <td>C581406</td>\n",
       "      <td>1575763200</td>\n",
       "      <td>46000M</td>\n",
       "      <td>Polyester Filler Pad 45x45cm</td>\n",
       "      <td>6.19</td>\n",
       "      <td>-240</td>\n",
       "      <td>NaN</td>\n",
       "      <td>United Kingdom</td>\n",
       "    </tr>\n",
       "    <tr>\n",
       "      <th>12238</th>\n",
       "      <td>C580913</td>\n",
       "      <td>1575590400</td>\n",
       "      <td>22536</td>\n",
       "      <td>Magic Drawing Slate Purdey</td>\n",
       "      <td>6.19</td>\n",
       "      <td>-120</td>\n",
       "      <td>17857.0</td>\n",
       "      <td>United Kingdom</td>\n",
       "    </tr>\n",
       "    <tr>\n",
       "      <th>...</th>\n",
       "      <td>...</td>\n",
       "      <td>...</td>\n",
       "      <td>...</td>\n",
       "      <td>...</td>\n",
       "      <td>...</td>\n",
       "      <td>...</td>\n",
       "      <td>...</td>\n",
       "      <td>...</td>\n",
       "    </tr>\n",
       "    <tr>\n",
       "      <th>17592</th>\n",
       "      <td>C580711</td>\n",
       "      <td>1575504000</td>\n",
       "      <td>23243</td>\n",
       "      <td>Set Of Tea Coffee Sugar Tins Pantry</td>\n",
       "      <td>6.19</td>\n",
       "      <td>-1</td>\n",
       "      <td>16057.0</td>\n",
       "      <td>United Kingdom</td>\n",
       "    </tr>\n",
       "    <tr>\n",
       "      <th>19620</th>\n",
       "      <td>C580507</td>\n",
       "      <td>1575417600</td>\n",
       "      <td>22423</td>\n",
       "      <td>Regency Cakestand 3 Tier</td>\n",
       "      <td>6.19</td>\n",
       "      <td>-1</td>\n",
       "      <td>15867.0</td>\n",
       "      <td>United Kingdom</td>\n",
       "    </tr>\n",
       "    <tr>\n",
       "      <th>19621</th>\n",
       "      <td>C580507</td>\n",
       "      <td>1575417600</td>\n",
       "      <td>72351B</td>\n",
       "      <td>Set/6 Pink Butterfly T-Lights</td>\n",
       "      <td>6.19</td>\n",
       "      <td>-1</td>\n",
       "      <td>15867.0</td>\n",
       "      <td>United Kingdom</td>\n",
       "    </tr>\n",
       "    <tr>\n",
       "      <th>17578</th>\n",
       "      <td>C580686</td>\n",
       "      <td>1575504000</td>\n",
       "      <td>22358</td>\n",
       "      <td>Kings Choice Tea Caddy</td>\n",
       "      <td>6.19</td>\n",
       "      <td>-1</td>\n",
       "      <td>15984.0</td>\n",
       "      <td>United Kingdom</td>\n",
       "    </tr>\n",
       "    <tr>\n",
       "      <th>22454</th>\n",
       "      <td>C580180</td>\n",
       "      <td>1575244800</td>\n",
       "      <td>22381</td>\n",
       "      <td>Toy Tidy Pink Polkadot</td>\n",
       "      <td>6.19</td>\n",
       "      <td>-1</td>\n",
       "      <td>14688.0</td>\n",
       "      <td>United Kingdom</td>\n",
       "    </tr>\n",
       "  </tbody>\n",
       "</table>\n",
       "<p>422 rows × 8 columns</p>\n",
       "</div>"
      ],
      "text/plain": [
       "      TransactionNo        Date ProductNo  \\\n",
       "1616        C581484  1575849600     23843   \n",
       "6512        C581406  1575763200    46000S   \n",
       "12294       C580971  1575590400     22313   \n",
       "6511        C581406  1575763200    46000M   \n",
       "12238       C580913  1575590400     22536   \n",
       "...             ...         ...       ...   \n",
       "17592       C580711  1575504000     23243   \n",
       "19620       C580507  1575417600     22423   \n",
       "19621       C580507  1575417600    72351B   \n",
       "17578       C580686  1575504000     22358   \n",
       "22454       C580180  1575244800     22381   \n",
       "\n",
       "                               ProductName  Price  Quantity  CustomerNo  \\\n",
       "1616             Paper Craft Little Birdie   6.19    -80995     16446.0   \n",
       "6512          Polyester Filler Pad 40x40cm   6.19      -300         NaN   \n",
       "12294               Office Mug Warmer Pink   6.19      -250     14298.0   \n",
       "6511          Polyester Filler Pad 45x45cm   6.19      -240         NaN   \n",
       "12238           Magic Drawing Slate Purdey   6.19      -120     17857.0   \n",
       "...                                    ...    ...       ...         ...   \n",
       "17592  Set Of Tea Coffee Sugar Tins Pantry   6.19        -1     16057.0   \n",
       "19620             Regency Cakestand 3 Tier   6.19        -1     15867.0   \n",
       "19621        Set/6 Pink Butterfly T-Lights   6.19        -1     15867.0   \n",
       "17578               Kings Choice Tea Caddy   6.19        -1     15984.0   \n",
       "22454               Toy Tidy Pink Polkadot   6.19        -1     14688.0   \n",
       "\n",
       "              Country  \n",
       "1616   United Kingdom  \n",
       "6512   United Kingdom  \n",
       "12294  United Kingdom  \n",
       "6511   United Kingdom  \n",
       "12238  United Kingdom  \n",
       "...               ...  \n",
       "17592  United Kingdom  \n",
       "19620  United Kingdom  \n",
       "19621  United Kingdom  \n",
       "17578  United Kingdom  \n",
       "22454  United Kingdom  \n",
       "\n",
       "[422 rows x 8 columns]"
      ]
     },
     "execution_count": 33,
     "metadata": {},
     "output_type": "execute_result"
    }
   ],
   "source": [
    "\"\"\"\n",
    "Recheck the cancelled orders\n",
    "\n",
    "It can be observed that the order is cancelled\n",
    "\"\"\"\n",
    "\n",
    "df[df['Quantity'] < 0].sort_values('Quantity', ascending=True)"
   ]
  },
  {
   "cell_type": "code",
   "execution_count": 34,
   "metadata": {},
   "outputs": [
    {
     "name": "stdout",
     "output_type": "stream",
     "text": [
      "              Date     Price  Quantity\n",
      "Date      1.000000  0.050329 -0.000100\n",
      "Price     0.050329  1.000000  0.025011\n",
      "Quantity -0.000100  0.025011  1.000000\n"
     ]
    },
    {
     "data": {
      "text/plain": [
       "<matplotlib.colorbar.Colorbar at 0x2828bad88e0>"
      ]
     },
     "execution_count": 34,
     "metadata": {},
     "output_type": "execute_result"
    },
    {
     "data": {
      "image/png": "[encoded data removed]",
      "text/plain": [
       "<Figure size 432x288 with 2 Axes>"
      ]
     },
     "metadata": {
      "needs_background": "light"
     },
     "output_type": "display_data"
    }
   ],
   "source": [
    "# Correlation diagram date, price, dan quantity\n",
    "matrix = df[['Date', 'Price', 'Quantity']].corr()\n",
    "print(matrix)\n",
    "\n",
    "plt.imshow(matrix, cmap=\"Blues\")\n",
    "plt.colorbar()"
   ]
  },
  {
   "cell_type": "code",
   "execution_count": 35,
   "metadata": {},
   "outputs": [
    {
     "data": {
      "image/png": "[encoded data removed]",
      "text/plain": [
       "<Figure size 432x288 with 1 Axes>"
      ]
     },
     "metadata": {
      "needs_background": "light"
     },
     "output_type": "display_data"
    },
    {
     "data": {
      "image/png": "[encoded data removed]",
      "text/plain": [
       "<Figure size 432x288 with 1 Axes>"
      ]
     },
     "metadata": {
      "needs_background": "light"
     },
     "output_type": "display_data"
    },
    {
     "data": {
      "image/png": "[encoded data removed]",
      "text/plain": [
       "<Figure size 432x288 with 1 Axes>"
      ]
     },
     "metadata": {
      "needs_background": "light"
     },
     "output_type": "display_data"
    },
    {
     "data": {
      "image/png": "[encoded data removed]",
      "text/plain": [
       "<Figure size 432x288 with 1 Axes>"
      ]
     },
     "metadata": {
      "needs_background": "light"
     },
     "output_type": "display_data"
    },
    {
     "data": {
      "image/png": "[encoded data removed]",
      "text/plain": [
       "<Figure size 432x288 with 1 Axes>"
      ]
     },
     "metadata": {
      "needs_background": "light"
     },
     "output_type": "display_data"
    },
    {
     "data": {
      "image/png": "[encoded data removed]",
      "text/plain": [
       "<Figure size 432x288 with 1 Axes>"
      ]
     },
     "metadata": {
      "needs_background": "light"
     },
     "output_type": "display_data"
    },
    {
     "data": {
      "image/png": "[encoded data removed]",
      "text/plain": [
       "<Figure size 432x288 with 1 Axes>"
      ]
     },
     "metadata": {
      "needs_background": "light"
     },
     "output_type": "display_data"
    },
    {
     "data": {
      "image/png": "[encoded data removed]",
      "text/plain": [
       "<Figure size 432x288 with 1 Axes>"
      ]
     },
     "metadata": {
      "needs_background": "light"
     },
     "output_type": "display_data"
    }
   ],
   "source": [
    "# Histogram feature\n",
    "for i in df.columns:\n",
    "    \n",
    "    plt.figure()\n",
    "    plt.title(f'{i}')\n",
    "    plt.hist(df[i])"
   ]
  },
  {
   "cell_type": "code",
   "execution_count": 36,
   "metadata": {},
   "outputs": [
    {
     "name": "stdout",
     "output_type": "stream",
     "text": [
      "Date\n",
      "Skewness: [-0.25707149] \n",
      "kurtosis: [-1.23305231]\n",
      "Price\n",
      "Skewness: [11.83956139] \n",
      "kurtosis: [245.38702169]\n",
      "Quantity\n",
      "Skewness: [-0.03799699] \n",
      "kurtosis: [14925.58867255]\n"
     ]
    }
   ],
   "source": [
    "# Skewness dan Kurtosis\n",
    "print(\"Date\\nSkewness:\", skew(df[['Date']]), \"\\nkurtosis:\", kurtosis(df[['Date']]))\n",
    "print(\"Price\\nSkewness:\", skew(df[['Price']]), \"\\nkurtosis:\", kurtosis(df[['Price']]))\n",
    "print(\"Quantity\\nSkewness:\", skew(df[['Quantity']]), \"\\nkurtosis:\", kurtosis(df[['Quantity']]))"
   ]
  },
  {
   "cell_type": "markdown",
   "metadata": {},
   "source": [
    "## 2. Data Preprocessing"
   ]
  },
  {
   "cell_type": "code",
   "execution_count": 37,
   "metadata": {
    "ExecuteTime": {
     "end_time": "2024-12-17T03:13:59.109861Z",
     "start_time": "2024-12-17T03:13:58.607925Z"
    }
   },
   "outputs": [],
   "source": [
    "# remove duplicates value\n",
    "df_duplicates_removed = df.drop_duplicates()\n",
    "\n",
    "# remove missing values\n",
    "df_missing_values_removed = df_duplicates_removed.dropna()"
   ]
  },
  {
   "cell_type": "code",
   "execution_count": 38,
   "metadata": {
    "ExecuteTime": {
     "end_time": "2024-12-17T03:14:04.253711Z",
     "start_time": "2024-12-17T03:13:59.150757Z"
    }
   },
   "outputs": [
    {
     "name": "stdout",
     "output_type": "stream",
     "text": [
      "shape before cancelled orders are removed: (29785, 8)\n",
      "shape after cancelled orders are removed (step 1): (29366, 8)\n"
     ]
    },
    {
     "name": "stderr",
     "output_type": "stream",
     "text": [
      "C:\\Users\\Aji\\AppData\\Local\\Temp\\ipykernel_17440\\2031731149.py:8: SettingWithCopyWarning: \n",
      "A value is trying to be set on a copy of a slice from a DataFrame.\n",
      "Try using .loc[row_indexer,col_indexer] = value instead\n",
      "\n",
      "See the caveats in the documentation: https://pandas.pydata.org/pandas-docs/stable/user_guide/indexing.html#returning-a-view-versus-a-copy\n",
      "  order_cancelled.loc[:, 'Quantity'] = order_cancelled['Quantity'] * -1\n"
     ]
    },
    {
     "name": "stdout",
     "output_type": "stream",
     "text": [
      "shape after cancelled orders are removed (step 2): (29322, 8)\n"
     ]
    },
    {
     "data": {
      "text/html": [
       "<div>\n",
       "<style scoped>\n",
       "    .dataframe tbody tr th:only-of-type {\n",
       "        vertical-align: middle;\n",
       "    }\n",
       "\n",
       "    .dataframe tbody tr th {\n",
       "        vertical-align: top;\n",
       "    }\n",
       "\n",
       "    .dataframe thead th {\n",
       "        text-align: right;\n",
       "    }\n",
       "</style>\n",
       "<table border=\"1\" class=\"dataframe\">\n",
       "  <thead>\n",
       "    <tr style=\"text-align: right;\">\n",
       "      <th></th>\n",
       "      <th>TransactionNo</th>\n",
       "      <th>Date</th>\n",
       "      <th>ProductNo</th>\n",
       "      <th>ProductName</th>\n",
       "      <th>Price</th>\n",
       "      <th>Quantity</th>\n",
       "      <th>CustomerNo</th>\n",
       "      <th>Country</th>\n",
       "    </tr>\n",
       "  </thead>\n",
       "  <tbody>\n",
       "    <tr>\n",
       "      <th>6288</th>\n",
       "      <td>581458</td>\n",
       "      <td>1575763200</td>\n",
       "      <td>22197</td>\n",
       "      <td>Popcorn Holder</td>\n",
       "      <td>6.04</td>\n",
       "      <td>1500</td>\n",
       "      <td>17949.0</td>\n",
       "      <td>United Kingdom</td>\n",
       "    </tr>\n",
       "    <tr>\n",
       "      <th>21660</th>\n",
       "      <td>580363</td>\n",
       "      <td>1575244800</td>\n",
       "      <td>23582</td>\n",
       "      <td>Vintage Doily Jumbo Bag Red</td>\n",
       "      <td>6.19</td>\n",
       "      <td>1500</td>\n",
       "      <td>13868.0</td>\n",
       "      <td>United Kingdom</td>\n",
       "    </tr>\n",
       "    <tr>\n",
       "      <th>8560</th>\n",
       "      <td>581175</td>\n",
       "      <td>1575676800</td>\n",
       "      <td>23084</td>\n",
       "      <td>Rabbit Night Light</td>\n",
       "      <td>6.19</td>\n",
       "      <td>1440</td>\n",
       "      <td>14646.0</td>\n",
       "      <td>Netherlands</td>\n",
       "    </tr>\n",
       "    <tr>\n",
       "      <th>7445</th>\n",
       "      <td>581115</td>\n",
       "      <td>1575676800</td>\n",
       "      <td>22413</td>\n",
       "      <td>Metal Sign Take It Or Leave It</td>\n",
       "      <td>6.19</td>\n",
       "      <td>1404</td>\n",
       "      <td>15195.0</td>\n",
       "      <td>United Kingdom</td>\n",
       "    </tr>\n",
       "    <tr>\n",
       "      <th>6289</th>\n",
       "      <td>581459</td>\n",
       "      <td>1575763200</td>\n",
       "      <td>22197</td>\n",
       "      <td>Popcorn Holder</td>\n",
       "      <td>6.04</td>\n",
       "      <td>1200</td>\n",
       "      <td>17949.0</td>\n",
       "      <td>United Kingdom</td>\n",
       "    </tr>\n",
       "    <tr>\n",
       "      <th>...</th>\n",
       "      <td>...</td>\n",
       "      <td>...</td>\n",
       "      <td>...</td>\n",
       "      <td>...</td>\n",
       "      <td>...</td>\n",
       "      <td>...</td>\n",
       "      <td>...</td>\n",
       "      <td>...</td>\n",
       "    </tr>\n",
       "    <tr>\n",
       "      <th>2995</th>\n",
       "      <td>581219</td>\n",
       "      <td>1575763200</td>\n",
       "      <td>79144B</td>\n",
       "      <td>Painted Lightbulb Star+ Moon</td>\n",
       "      <td>6.19</td>\n",
       "      <td>1</td>\n",
       "      <td>16219.0</td>\n",
       "      <td>United Kingdom</td>\n",
       "    </tr>\n",
       "    <tr>\n",
       "      <th>20766</th>\n",
       "      <td>580287</td>\n",
       "      <td>1575244800</td>\n",
       "      <td>79066K</td>\n",
       "      <td>Retro Mod Tray</td>\n",
       "      <td>7.24</td>\n",
       "      <td>1</td>\n",
       "      <td>14594.0</td>\n",
       "      <td>United Kingdom</td>\n",
       "    </tr>\n",
       "    <tr>\n",
       "      <th>20767</th>\n",
       "      <td>580287</td>\n",
       "      <td>1575244800</td>\n",
       "      <td>23070</td>\n",
       "      <td>Edwardian Heart Photo Frame</td>\n",
       "      <td>7.24</td>\n",
       "      <td>1</td>\n",
       "      <td>14594.0</td>\n",
       "      <td>United Kingdom</td>\n",
       "    </tr>\n",
       "    <tr>\n",
       "      <th>20768</th>\n",
       "      <td>580287</td>\n",
       "      <td>1575244800</td>\n",
       "      <td>22173</td>\n",
       "      <td>Metal 4 Hook Hanger French Chateau</td>\n",
       "      <td>7.24</td>\n",
       "      <td>1</td>\n",
       "      <td>14594.0</td>\n",
       "      <td>United Kingdom</td>\n",
       "    </tr>\n",
       "    <tr>\n",
       "      <th>3787</th>\n",
       "      <td>581310</td>\n",
       "      <td>1575763200</td>\n",
       "      <td>23505</td>\n",
       "      <td>Playing Cards I Love London</td>\n",
       "      <td>6.04</td>\n",
       "      <td>1</td>\n",
       "      <td>16442.0</td>\n",
       "      <td>United Kingdom</td>\n",
       "    </tr>\n",
       "  </tbody>\n",
       "</table>\n",
       "<p>29322 rows × 8 columns</p>\n",
       "</div>"
      ],
      "text/plain": [
       "      TransactionNo        Date ProductNo                         ProductName  \\\n",
       "6288         581458  1575763200     22197                      Popcorn Holder   \n",
       "21660        580363  1575244800     23582         Vintage Doily Jumbo Bag Red   \n",
       "8560         581175  1575676800     23084                  Rabbit Night Light   \n",
       "7445         581115  1575676800     22413      Metal Sign Take It Or Leave It   \n",
       "6289         581459  1575763200     22197                      Popcorn Holder   \n",
       "...             ...         ...       ...                                 ...   \n",
       "2995         581219  1575763200    79144B        Painted Lightbulb Star+ Moon   \n",
       "20766        580287  1575244800    79066K                      Retro Mod Tray   \n",
       "20767        580287  1575244800     23070         Edwardian Heart Photo Frame   \n",
       "20768        580287  1575244800     22173  Metal 4 Hook Hanger French Chateau   \n",
       "3787         581310  1575763200     23505         Playing Cards I Love London   \n",
       "\n",
       "       Price  Quantity  CustomerNo         Country  \n",
       "6288    6.04      1500     17949.0  United Kingdom  \n",
       "21660   6.19      1500     13868.0  United Kingdom  \n",
       "8560    6.19      1440     14646.0     Netherlands  \n",
       "7445    6.19      1404     15195.0  United Kingdom  \n",
       "6289    6.04      1200     17949.0  United Kingdom  \n",
       "...      ...       ...         ...             ...  \n",
       "2995    6.19         1     16219.0  United Kingdom  \n",
       "20766   7.24         1     14594.0  United Kingdom  \n",
       "20767   7.24         1     14594.0  United Kingdom  \n",
       "20768   7.24         1     14594.0  United Kingdom  \n",
       "3787    6.04         1     16442.0  United Kingdom  \n",
       "\n",
       "[29322 rows x 8 columns]"
      ]
     },
     "execution_count": 38,
     "metadata": {},
     "output_type": "execute_result"
    }
   ],
   "source": [
    "print(f\"shape before cancelled orders are removed: {df_missing_values_removed.shape}\")\n",
    "\n",
    "# remove cancelled orders\n",
    "df_cancelled_orders_removed = df_missing_values_removed[~df_missing_values_removed['TransactionNo'].str.contains('C')]\n",
    "df_cancelled_orders_removed = df_missing_values_removed[df_missing_values_removed['Quantity'] > 0]\n",
    "\n",
    "order_cancelled = df_missing_values_removed[df_missing_values_removed['Quantity'] < 0]\n",
    "order_cancelled.loc[:, 'Quantity'] = order_cancelled['Quantity'] * -1\n",
    "\n",
    "print(f\"shape after cancelled orders are removed (step 1): {df_cancelled_orders_removed.shape}\")\n",
    "\n",
    "columns = ['ProductNo', 'Quantity', 'CustomerNo']\n",
    "\n",
    "df_merged = pd.merge(df_cancelled_orders_removed, order_cancelled,\n",
    "                     on=columns,\n",
    "                     how='inner', suffixes=('_df_cancelled_orders_removed', '_order_cancelled'))\n",
    "\n",
    "# Step 1: Create tuples for comparison\n",
    "df_cancelled_orders_removed_tuples = df_cancelled_orders_removed.apply(\n",
    "    lambda row: (row['TransactionNo'], row['ProductNo'], row['Quantity'], row['CustomerNo']), axis=1\n",
    ")\n",
    "df_merged_tuples = df_merged.apply(\n",
    "    lambda row: (\n",
    "        row['TransactionNo_df_cancelled_orders_removed'], row['ProductNo'], row['Quantity'], row['CustomerNo']), axis=1\n",
    ")\n",
    "rows_to_remove = df_cancelled_orders_removed_tuples.isin(df_merged_tuples)\n",
    "df_cancelled_orders_removed = df_cancelled_orders_removed[~rows_to_remove]\n",
    "\n",
    "print(f\"shape after cancelled orders are removed (step 2): {df_cancelled_orders_removed.shape}\")\n",
    "\n",
    "df_cancelled_orders_removed.sort_values('Quantity', ascending=False)"
   ]
  },
  {
   "cell_type": "code",
   "execution_count": 39,
   "metadata": {},
   "outputs": [],
   "source": [
    "def IQR_method (df,n,features):\n",
    "    \"\"\"\n",
    "    Takes a dataframe and returns an index list corresponding to the observations\n",
    "    containing more than n outliers according to the Tukey IQR method.\n",
    "    \"\"\"\n",
    "    outlier_list = []\n",
    "\n",
    "    for column in features:\n",
    "        # 1st quartile (25%)\n",
    "        Q1 = np.percentile(df[column], 25)\n",
    "        # 3rd quartile (75%)\n",
    "        Q3 = np.percentile(df[column],75)\n",
    "\n",
    "        # Interquartile range (IQR)\n",
    "        IQR = Q3 - Q1\n",
    "\n",
    "        # outlier step\n",
    "        outlier_step = 1.5 * IQR\n",
    "\n",
    "        # Determining a list of indices of outliers\n",
    "        outlier_list_column = df[(df[column] < Q1 - outlier_step) | (df[column] > Q3 + outlier_step )].index\n",
    "\n",
    "        # appending the list of outliers\n",
    "        outlier_list.extend(outlier_list_column)\n",
    "\n",
    "    # selecting observations containing more than x outliers\n",
    "    outlier_list = Counter(outlier_list)\n",
    "    multiple_outliers = list( k for k, v in outlier_list.items() if v > n )\n",
    "\n",
    "    # Calculate the number of records below and above lower and above bound value respectively\n",
    "    out1 = df[df[column] < Q1 - outlier_step]\n",
    "    out2 = df[df[column] > Q3 + outlier_step]\n",
    "\n",
    "    print('Total number of outliers is:', out1.shape[0]+out2.shape[0])\n",
    "\n",
    "    return multiple_outliers"
   ]
  },
  {
   "cell_type": "code",
   "execution_count": 51,
   "metadata": {},
   "outputs": [
    {
     "name": "stdout",
     "output_type": "stream",
     "text": [
      "Total number of outliers is: 2072\n",
      "[]\n"
     ]
    },
    {
     "data": {
      "text/html": [
       "<div>\n",
       "<style scoped>\n",
       "    .dataframe tbody tr th:only-of-type {\n",
       "        vertical-align: middle;\n",
       "    }\n",
       "\n",
       "    .dataframe tbody tr th {\n",
       "        vertical-align: top;\n",
       "    }\n",
       "\n",
       "    .dataframe thead th {\n",
       "        text-align: right;\n",
       "    }\n",
       "</style>\n",
       "<table border=\"1\" class=\"dataframe\">\n",
       "  <thead>\n",
       "    <tr style=\"text-align: right;\">\n",
       "      <th></th>\n",
       "      <th>TransactionNo</th>\n",
       "      <th>Date</th>\n",
       "      <th>ProductNo</th>\n",
       "      <th>ProductName</th>\n",
       "      <th>Price</th>\n",
       "      <th>Quantity</th>\n",
       "      <th>CustomerNo</th>\n",
       "      <th>Country</th>\n",
       "    </tr>\n",
       "  </thead>\n",
       "  <tbody>\n",
       "    <tr>\n",
       "      <th>0</th>\n",
       "      <td>581482</td>\n",
       "      <td>1575849600</td>\n",
       "      <td>22485</td>\n",
       "      <td>Set Of 2 Wooden Market Crates</td>\n",
       "      <td>21.47</td>\n",
       "      <td>12</td>\n",
       "      <td>17490.0</td>\n",
       "      <td>United Kingdom</td>\n",
       "    </tr>\n",
       "    <tr>\n",
       "      <th>1</th>\n",
       "      <td>581475</td>\n",
       "      <td>1575849600</td>\n",
       "      <td>23235</td>\n",
       "      <td>Storage Tin Vintage Leaf</td>\n",
       "      <td>11.53</td>\n",
       "      <td>12</td>\n",
       "      <td>13069.0</td>\n",
       "      <td>United Kingdom</td>\n",
       "    </tr>\n",
       "    <tr>\n",
       "      <th>2</th>\n",
       "      <td>581475</td>\n",
       "      <td>1575849600</td>\n",
       "      <td>23272</td>\n",
       "      <td>Tree T-Light Holder Willie Winkie</td>\n",
       "      <td>10.65</td>\n",
       "      <td>12</td>\n",
       "      <td>13069.0</td>\n",
       "      <td>United Kingdom</td>\n",
       "    </tr>\n",
       "    <tr>\n",
       "      <th>3</th>\n",
       "      <td>581475</td>\n",
       "      <td>1575849600</td>\n",
       "      <td>23239</td>\n",
       "      <td>Set Of 4 Knick Knack Tins Poppies</td>\n",
       "      <td>11.94</td>\n",
       "      <td>6</td>\n",
       "      <td>13069.0</td>\n",
       "      <td>United Kingdom</td>\n",
       "    </tr>\n",
       "    <tr>\n",
       "      <th>4</th>\n",
       "      <td>581475</td>\n",
       "      <td>1575849600</td>\n",
       "      <td>22118</td>\n",
       "      <td>Joy Wooden Block Letters</td>\n",
       "      <td>11.53</td>\n",
       "      <td>18</td>\n",
       "      <td>13069.0</td>\n",
       "      <td>United Kingdom</td>\n",
       "    </tr>\n",
       "    <tr>\n",
       "      <th>...</th>\n",
       "      <td>...</td>\n",
       "      <td>...</td>\n",
       "      <td>...</td>\n",
       "      <td>...</td>\n",
       "      <td>...</td>\n",
       "      <td>...</td>\n",
       "      <td>...</td>\n",
       "      <td>...</td>\n",
       "    </tr>\n",
       "    <tr>\n",
       "      <th>28800</th>\n",
       "      <td>579408</td>\n",
       "      <td>1574985600</td>\n",
       "      <td>22997</td>\n",
       "      <td>Travel Card Wallet Union Jack</td>\n",
       "      <td>6.19</td>\n",
       "      <td>2</td>\n",
       "      <td>14701.0</td>\n",
       "      <td>United Kingdom</td>\n",
       "    </tr>\n",
       "    <tr>\n",
       "      <th>28801</th>\n",
       "      <td>579408</td>\n",
       "      <td>1574985600</td>\n",
       "      <td>23000</td>\n",
       "      <td>Travel Card Wallet Transport</td>\n",
       "      <td>6.04</td>\n",
       "      <td>4</td>\n",
       "      <td>14701.0</td>\n",
       "      <td>United Kingdom</td>\n",
       "    </tr>\n",
       "    <tr>\n",
       "      <th>28802</th>\n",
       "      <td>579408</td>\n",
       "      <td>1574985600</td>\n",
       "      <td>23005</td>\n",
       "      <td>Travel Card Wallet I Love London</td>\n",
       "      <td>6.04</td>\n",
       "      <td>3</td>\n",
       "      <td>14701.0</td>\n",
       "      <td>United Kingdom</td>\n",
       "    </tr>\n",
       "    <tr>\n",
       "      <th>28803</th>\n",
       "      <td>579408</td>\n",
       "      <td>1574985600</td>\n",
       "      <td>23002</td>\n",
       "      <td>Travel Card Wallet Skulls</td>\n",
       "      <td>6.04</td>\n",
       "      <td>5</td>\n",
       "      <td>14701.0</td>\n",
       "      <td>United Kingdom</td>\n",
       "    </tr>\n",
       "    <tr>\n",
       "      <th>28804</th>\n",
       "      <td>579408</td>\n",
       "      <td>1574985600</td>\n",
       "      <td>22998</td>\n",
       "      <td>Travel Card Wallet Keep Calm</td>\n",
       "      <td>6.19</td>\n",
       "      <td>4</td>\n",
       "      <td>14701.0</td>\n",
       "      <td>United Kingdom</td>\n",
       "    </tr>\n",
       "  </tbody>\n",
       "</table>\n",
       "<p>28805 rows × 8 columns</p>\n",
       "</div>"
      ],
      "text/plain": [
       "      TransactionNo        Date ProductNo                        ProductName  \\\n",
       "0            581482  1575849600     22485      Set Of 2 Wooden Market Crates   \n",
       "1            581475  1575849600     23235           Storage Tin Vintage Leaf   \n",
       "2            581475  1575849600     23272  Tree T-Light Holder Willie Winkie   \n",
       "3            581475  1575849600     23239  Set Of 4 Knick Knack Tins Poppies   \n",
       "4            581475  1575849600     22118           Joy Wooden Block Letters   \n",
       "...             ...         ...       ...                                ...   \n",
       "28800        579408  1574985600     22997      Travel Card Wallet Union Jack   \n",
       "28801        579408  1574985600     23000       Travel Card Wallet Transport   \n",
       "28802        579408  1574985600     23005   Travel Card Wallet I Love London   \n",
       "28803        579408  1574985600     23002          Travel Card Wallet Skulls   \n",
       "28804        579408  1574985600     22998       Travel Card Wallet Keep Calm   \n",
       "\n",
       "       Price  Quantity  CustomerNo         Country  \n",
       "0      21.47        12     17490.0  United Kingdom  \n",
       "1      11.53        12     13069.0  United Kingdom  \n",
       "2      10.65        12     13069.0  United Kingdom  \n",
       "3      11.94         6     13069.0  United Kingdom  \n",
       "4      11.53        18     13069.0  United Kingdom  \n",
       "...      ...       ...         ...             ...  \n",
       "28800   6.19         2     14701.0  United Kingdom  \n",
       "28801   6.04         4     14701.0  United Kingdom  \n",
       "28802   6.04         3     14701.0  United Kingdom  \n",
       "28803   6.04         5     14701.0  United Kingdom  \n",
       "28804   6.19         4     14701.0  United Kingdom  \n",
       "\n",
       "[28805 rows x 8 columns]"
      ]
     },
     "execution_count": 51,
     "metadata": {},
     "output_type": "execute_result"
    }
   ],
   "source": [
    "# detecting outliers\n",
    "numeric_columns = (list(df.loc[:, ['Date', 'Price', 'Quantity']]))\n",
    "Outliers_IQR = IQR_method(df,1,numeric_columns)\n",
    "print(Outliers_IQR)\n",
    "\n",
    "# dropping outliers\n",
    "df_out = df.drop(Outliers_IQR, axis = 0).reset_index(drop=True)\n",
    "\n",
    "df = df_out\n",
    "df"
   ]
  },
  {
   "cell_type": "markdown",
   "metadata": {},
   "source": [
    "## 3. Modeling (Sequential Pattern Mining)"
   ]
  },
  {
   "cell_type": "code",
   "execution_count": 17,
   "metadata": {
    "ExecuteTime": {
     "end_time": "2024-12-17T04:52:18.400558Z",
     "start_time": "2024-12-17T04:52:18.368284Z"
    }
   },
   "outputs": [
    {
     "name": "stdout",
     "output_type": "stream",
     "text": [
      "accuracy: 20.00%\n"
     ]
    }
   ],
   "source": [
    "from itertools import combinations\n",
    "\n",
    "df_transformed = df_cancelled_orders_removed\n",
    "\n",
    "# CONFIG\n",
    "num_customers = 10\n",
    "\n",
    "# overall performance evaluation\n",
    "overall_true_positives = 0\n",
    "overall_false_positives = 0\n",
    "overall_false_negatives = 0\n",
    "overall_true_negatives = 0\n",
    "\n",
    "for customer_no in df_transformed['CustomerNo'].unique()[:num_customers]:\n",
    "    # Extract transactions of the customer\n",
    "    customer_data = df_transformed[df_transformed['CustomerNo'] == customer_no]\n",
    "    customer_data = customer_data.sort_values(['Date', 'TransactionNo'])\n",
    "\n",
    "    transactions = customer_data.groupby('TransactionNo')['ProductNo'].apply(list).tolist()\n",
    "\n",
    "    # Split train and test\n",
    "    split_index = int(len(transactions) * 0.7)\n",
    "    train_transactions = transactions[:split_index]\n",
    "    test_transactions = transactions[split_index:]\n",
    "\n",
    "    # Sequential pattern mining\n",
    "    min_support = 4\n",
    "    patterns = list(seqmining.freq_seq_enum(train_transactions, min_support))\n",
    "\n",
    "    # Performance evaluation for the current customer\n",
    "    true_positives = 0\n",
    "    false_positives = 0\n",
    "    false_negatives = 0\n",
    "    true_negatives = 0\n",
    "\n",
    "    tracker = {}\n",
    "    for pattern, _ in patterns:\n",
    "        if len(pattern) < 2:\n",
    "            continue\n",
    "\n",
    "        for product1, product2 in combinations(pattern, 2):\n",
    "            if f\"{product1}:{product2}\" in tracker:\n",
    "                continue\n",
    "            else:\n",
    "                tracker[f\"{product1}:{product2}\"] = True\n",
    "\n",
    "            first_index = None\n",
    "            second_index = None\n",
    "            is_false_positive = True\n",
    "            for idx, transaction in enumerate(test_transactions):\n",
    "                if product1 in transaction and first_index is None:\n",
    "                    first_index = idx\n",
    "\n",
    "                if product2 in transaction and (second_index is None or idx > second_index):\n",
    "                    second_index = idx\n",
    "\n",
    "                if first_index and second_index and first_index < second_index:\n",
    "                    true_positives += 1\n",
    "                    is_false_positive = True\n",
    "                    break\n",
    "\n",
    "            if is_false_positive:\n",
    "                false_positives += 1\n",
    "\n",
    "        # TODO: true_negative and false_negative\n",
    "\n",
    "    overall_true_positives += true_positives\n",
    "    overall_false_positives += false_positives\n",
    "    overall_false_negatives += false_negatives\n",
    "    overall_true_negatives += true_negatives\n",
    "\n",
    "# TODO: incorporate true_negative and false_negative\n",
    "print(f\"accuracy: {(100 * overall_true_positives) / (overall_true_positives + overall_false_positives):.2f}%\")"
   ]
  },
  {
   "cell_type": "code",
   "execution_count": 18,
   "metadata": {
    "ExecuteTime": {
     "end_time": "2024-12-17T04:52:33.364230Z",
     "start_time": "2024-12-17T04:52:33.354419Z"
    }
   },
   "outputs": [
    {
     "data": {
      "text/html": [
       "<div>\n",
       "<style scoped>\n",
       "    .dataframe tbody tr th:only-of-type {\n",
       "        vertical-align: middle;\n",
       "    }\n",
       "\n",
       "    .dataframe tbody tr th {\n",
       "        vertical-align: top;\n",
       "    }\n",
       "\n",
       "    .dataframe thead th {\n",
       "        text-align: right;\n",
       "    }\n",
       "</style>\n",
       "<table border=\"1\" class=\"dataframe\">\n",
       "  <thead>\n",
       "    <tr style=\"text-align: right;\">\n",
       "      <th></th>\n",
       "      <th>Metric</th>\n",
       "      <th>Value</th>\n",
       "    </tr>\n",
       "  </thead>\n",
       "  <tbody>\n",
       "    <tr>\n",
       "      <th>0</th>\n",
       "      <td>True Positives</td>\n",
       "      <td>3</td>\n",
       "    </tr>\n",
       "    <tr>\n",
       "      <th>1</th>\n",
       "      <td>False Positives</td>\n",
       "      <td>12</td>\n",
       "    </tr>\n",
       "    <tr>\n",
       "      <th>2</th>\n",
       "      <td>False Negatives</td>\n",
       "      <td>0</td>\n",
       "    </tr>\n",
       "    <tr>\n",
       "      <th>3</th>\n",
       "      <td>True Negatives</td>\n",
       "      <td>0</td>\n",
       "    </tr>\n",
       "    <tr>\n",
       "      <th>4</th>\n",
       "      <td>Precision</td>\n",
       "      <td>0.20</td>\n",
       "    </tr>\n",
       "    <tr>\n",
       "      <th>5</th>\n",
       "      <td>Recall</td>\n",
       "      <td>1.00</td>\n",
       "    </tr>\n",
       "    <tr>\n",
       "      <th>6</th>\n",
       "      <td>F1 Score</td>\n",
       "      <td>0.33</td>\n",
       "    </tr>\n",
       "    <tr>\n",
       "      <th>7</th>\n",
       "      <td>Accuracy</td>\n",
       "      <td>0.20</td>\n",
       "    </tr>\n",
       "  </tbody>\n",
       "</table>\n",
       "</div>"
      ],
      "text/plain": [
       "            Metric Value\n",
       "0   True Positives     3\n",
       "1  False Positives    12\n",
       "2  False Negatives     0\n",
       "3   True Negatives     0\n",
       "4        Precision  0.20\n",
       "5           Recall  1.00\n",
       "6         F1 Score  0.33\n",
       "7         Accuracy  0.20"
      ]
     },
     "execution_count": 18,
     "metadata": {},
     "output_type": "execute_result"
    }
   ],
   "source": [
    "precision = overall_true_positives / (overall_true_positives + overall_false_positives) if (\n",
    "                                                                                                   overall_true_positives + overall_false_positives) > 0 else 0\n",
    "recall = overall_true_positives / (overall_true_positives + overall_false_negatives) if (\n",
    "                                                                                                overall_true_positives + overall_false_negatives) > 0 else 0\n",
    "f1_score = 2 * precision * recall / (precision + recall) if (precision + recall) > 0 else 0\n",
    "accuracy = (overall_true_positives + overall_true_negatives) / (\n",
    "        overall_true_positives + overall_true_negatives + overall_false_positives + overall_false_negatives)\n",
    "\n",
    "metrics = {\n",
    "    \"Metric\": [\"True Positives\", \"False Positives\", \"False Negatives\", \"True Negatives\",\n",
    "               \"Precision\", \"Recall\", \"F1 Score\", \"Accuracy\"],\n",
    "    \"Value\": [overall_true_positives, overall_false_positives, overall_false_negatives, overall_true_negatives,\n",
    "              f\"{precision:.2f}\", f\"{recall:.2f}\", f\"{f1_score:.2f}\", f\"{accuracy:.2f}\"]\n",
    "}\n",
    "\n",
    "pd.DataFrame(metrics)"
   ]
  }
 ],
 "metadata": {
  "colab": {
   "provenance": []
  },
  "kaggle": {
   "accelerator": "none",
   "dataSources": [
    {
     "databundleVersionId": 6475798,
     "sourceId": 60002,
     "sourceType": "competition"
    }
   ],
   "dockerImageVersionId": 30553,
   "isGpuEnabled": false,
   "isInternetEnabled": true,
   "language": "python",
   "sourceType": "notebook"
  },
  "kernelspec": {
   "display_name": "Python 3",
   "language": "python",
   "name": "python3"
  },
  "language_info": {
   "codemirror_mode": {
    "name": "ipython",
    "version": 3
   },
   "file_extension": ".py",
   "mimetype": "text/x-python",
   "name": "python",
   "nbconvert_exporter": "python",
   "pygments_lexer": "ipython3",
   "version": "3.9.1"
  }
 },
 "nbformat": 4,
 "nbformat_minor": 0
}
