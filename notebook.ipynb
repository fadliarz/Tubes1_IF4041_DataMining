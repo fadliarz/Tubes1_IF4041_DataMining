{
 "cells": [
  {
   "cell_type": "markdown",
   "metadata": {
    "id": "uSIWCqrYmFED"
   },
   "source": [
    "#  IF4140 | EDA"
   ]
  },
  {
   "cell_type": "markdown",
   "metadata": {
    "id": "h7GBlbj5mFEE"
   },
   "source": [
    "Group Members:\n",
    "- Muhammad Fadli Alfarizi (13121140)\n",
    "- Aji Andhika Falah (13520012)\n"
   ]
  },
  {
   "cell_type": "markdown",
   "metadata": {
    "id": "0h-OTlV0mFEE"
   },
   "source": [
    "## Import Libraries"
   ]
  },
  {
   "cell_type": "code",
<<<<<<< HEAD
=======
   "execution_count": 1,
>>>>>>> 00a1a1f2b5a4a096a5c5e53718760cd45ba089b4
   "metadata": {
    "id": "6HiGhI10mFEE",
    "ExecuteTime": {
     "end_time": "2025-01-13T10:55:02.253417Z",
     "start_time": "2025-01-13T10:55:02.212379Z"
    }
   },
   "source": [
    "import pandas as pd\n",
    "\n",
    "import matplotlib.pyplot as plt\n",
    "import seaborn as sns\n",
    "import numpy as np\n",
    "\n",
    "from prefixspan import PrefixSpan\n",
    "from pymining import seqmining\n",
    "from scipy.stats import skew, kurtosis\n",
    "from collections import Counter\n",
    "from itertools import combinations"
<<<<<<< HEAD
   ],
   "outputs": [],
   "execution_count": 1
=======
   ]
>>>>>>> 00a1a1f2b5a4a096a5c5e53718760cd45ba089b4
  },
  {
   "cell_type": "markdown",
   "metadata": {
    "id": "ugTwxRyfmFEF"
   },
   "source": [
    "## Import Dataset"
   ]
  },
  {
   "cell_type": "code",
<<<<<<< HEAD
=======
   "execution_count": 2,
>>>>>>> 00a1a1f2b5a4a096a5c5e53718760cd45ba089b4
   "metadata": {
    "ExecuteTime": {
     "end_time": "2025-01-13T10:57:00.670048Z",
     "start_time": "2025-01-13T10:55:02.440766Z"
    }
   },
   "source": [
    "df = pd.read_csv('https://drive.google.com/uc?id=1mIMT-kzQiyS5U5gHTA1V70Pvs7ya6dJ8', nrows=30000)\n",
    "\n",
    "df.reset_index(drop=True, inplace=True)\n",
    "\n",
    "df['Date'] = pd.to_datetime(df['Date'], format='%m/%d/%Y')\n",
    "df['Date'] = df['Date'].astype('int64') // 10 ** 9\n",
    "\n",
    "df.head()"
   ],
   "outputs": [
    {
     "data": {
      "text/plain": [
       "  TransactionNo        Date ProductNo                          ProductName  \\\n",
       "0        581482  1575849600     22485        Set Of 2 Wooden Market Crates   \n",
       "1        581475  1575849600     22596  Christmas Star Wish List Chalkboard   \n",
       "2        581475  1575849600     23235             Storage Tin Vintage Leaf   \n",
       "3        581475  1575849600     23272    Tree T-Light Holder Willie Winkie   \n",
       "4        581475  1575849600     23239    Set Of 4 Knick Knack Tins Poppies   \n",
       "\n",
       "   Price  Quantity  CustomerNo         Country  \n",
       "0  21.47        12     17490.0  United Kingdom  \n",
       "1  10.65        36     13069.0  United Kingdom  \n",
       "2  11.53        12     13069.0  United Kingdom  \n",
       "3  10.65        12     13069.0  United Kingdom  \n",
       "4  11.94         6     13069.0  United Kingdom  "
      ],
      "text/html": [
       "<div>\n",
       "<style scoped>\n",
       "    .dataframe tbody tr th:only-of-type {\n",
       "        vertical-align: middle;\n",
       "    }\n",
       "\n",
       "    .dataframe tbody tr th {\n",
       "        vertical-align: top;\n",
       "    }\n",
       "\n",
       "    .dataframe thead th {\n",
       "        text-align: right;\n",
       "    }\n",
       "</style>\n",
       "<table border=\"1\" class=\"dataframe\">\n",
       "  <thead>\n",
       "    <tr style=\"text-align: right;\">\n",
       "      <th></th>\n",
       "      <th>TransactionNo</th>\n",
       "      <th>Date</th>\n",
       "      <th>ProductNo</th>\n",
       "      <th>ProductName</th>\n",
       "      <th>Price</th>\n",
       "      <th>Quantity</th>\n",
       "      <th>CustomerNo</th>\n",
       "      <th>Country</th>\n",
       "    </tr>\n",
       "  </thead>\n",
       "  <tbody>\n",
       "    <tr>\n",
       "      <th>0</th>\n",
       "      <td>581482</td>\n",
       "      <td>1575849600</td>\n",
       "      <td>22485</td>\n",
       "      <td>Set Of 2 Wooden Market Crates</td>\n",
       "      <td>21.47</td>\n",
       "      <td>12</td>\n",
       "      <td>17490.0</td>\n",
       "      <td>United Kingdom</td>\n",
       "    </tr>\n",
       "    <tr>\n",
       "      <th>1</th>\n",
       "      <td>581475</td>\n",
       "      <td>1575849600</td>\n",
       "      <td>22596</td>\n",
       "      <td>Christmas Star Wish List Chalkboard</td>\n",
       "      <td>10.65</td>\n",
       "      <td>36</td>\n",
       "      <td>13069.0</td>\n",
       "      <td>United Kingdom</td>\n",
       "    </tr>\n",
       "    <tr>\n",
       "      <th>2</th>\n",
       "      <td>581475</td>\n",
       "      <td>1575849600</td>\n",
       "      <td>23235</td>\n",
       "      <td>Storage Tin Vintage Leaf</td>\n",
       "      <td>11.53</td>\n",
       "      <td>12</td>\n",
       "      <td>13069.0</td>\n",
       "      <td>United Kingdom</td>\n",
       "    </tr>\n",
       "    <tr>\n",
       "      <th>3</th>\n",
       "      <td>581475</td>\n",
       "      <td>1575849600</td>\n",
       "      <td>23272</td>\n",
       "      <td>Tree T-Light Holder Willie Winkie</td>\n",
       "      <td>10.65</td>\n",
       "      <td>12</td>\n",
       "      <td>13069.0</td>\n",
       "      <td>United Kingdom</td>\n",
       "    </tr>\n",
       "    <tr>\n",
       "      <th>4</th>\n",
       "      <td>581475</td>\n",
       "      <td>1575849600</td>\n",
       "      <td>23239</td>\n",
       "      <td>Set Of 4 Knick Knack Tins Poppies</td>\n",
       "      <td>11.94</td>\n",
       "      <td>6</td>\n",
       "      <td>13069.0</td>\n",
       "      <td>United Kingdom</td>\n",
       "    </tr>\n",
       "  </tbody>\n",
       "</table>\n",
       "</div>"
      ]
     },
     "execution_count": 2,
     "metadata": {},
     "output_type": "execute_result"
    }
   ],
   "execution_count": 2
  },
  {
   "cell_type": "markdown",
   "metadata": {},
   "source": [
    "## 1. EDA"
   ]
  },
  {
   "cell_type": "code",
<<<<<<< HEAD
=======
   "execution_count": 3,
>>>>>>> 00a1a1f2b5a4a096a5c5e53718760cd45ba089b4
   "metadata": {
    "ExecuteTime": {
     "end_time": "2025-01-13T10:57:00.983304Z",
     "start_time": "2025-01-13T10:57:00.969693Z"
    }
   },
   "source": [
    "df.info()\n",
    "\n",
    "print(f\"\\nshape: {df.shape}\")"
   ],
   "outputs": [
    {
     "name": "stdout",
     "output_type": "stream",
     "text": [
      "<class 'pandas.core.frame.DataFrame'>\n",
      "RangeIndex: 30000 entries, 0 to 29999\n",
      "Data columns (total 8 columns):\n",
      " #   Column         Non-Null Count  Dtype  \n",
      "---  ------         --------------  -----  \n",
      " 0   TransactionNo  30000 non-null  object \n",
      " 1   Date           30000 non-null  int64  \n",
      " 2   ProductNo      30000 non-null  object \n",
      " 3   ProductName    30000 non-null  object \n",
      " 4   Price          30000 non-null  float64\n",
      " 5   Quantity       30000 non-null  int64  \n",
      " 6   CustomerNo     29998 non-null  float64\n",
      " 7   Country        30000 non-null  object \n",
      "dtypes: float64(2), int64(2), object(4)\n",
      "memory usage: 1.8+ MB\n",
      "\n",
      "shape: (30000, 8)\n"
     ]
    }
   ],
   "execution_count": 3
  },
  {
   "cell_type": "code",
<<<<<<< HEAD
=======
   "execution_count": 4,
>>>>>>> 00a1a1f2b5a4a096a5c5e53718760cd45ba089b4
   "metadata": {
    "ExecuteTime": {
     "end_time": "2025-01-13T10:57:01.075411Z",
     "start_time": "2025-01-13T10:57:01.057240Z"
    }
   },
   "source": [
    "# check missing values\n",
    "\n",
    "print(df.isnull().sum())\n",
    "\n",
    "print(f\"\\nnumber of missing values: {df.isnull().sum().sum()}\")"
   ],
   "outputs": [
    {
     "name": "stdout",
     "output_type": "stream",
     "text": [
      "TransactionNo    0\n",
      "Date             0\n",
      "ProductNo        0\n",
      "ProductName      0\n",
      "Price            0\n",
      "Quantity         0\n",
      "CustomerNo       2\n",
      "Country          0\n",
      "dtype: int64\n",
      "\n",
      "number of missing values: 2\n"
     ]
    }
   ],
   "execution_count": 4
  },
  {
   "cell_type": "code",
<<<<<<< HEAD
=======
   "execution_count": 5,
>>>>>>> 00a1a1f2b5a4a096a5c5e53718760cd45ba089b4
   "metadata": {
    "ExecuteTime": {
     "end_time": "2025-01-13T10:57:01.157413Z",
     "start_time": "2025-01-13T10:57:01.137952Z"
    }
   },
   "source": [
    "# check number of duplicates\n",
    "\n",
    "print(f\"number of duplicates {df.duplicated().sum()}\")"
   ],
   "outputs": [
    {
     "name": "stdout",
     "output_type": "stream",
     "text": [
      "number of duplicates 213\n"
     ]
    }
   ],
   "execution_count": 5
  },
  {
   "cell_type": "code",
<<<<<<< HEAD
=======
   "execution_count": 6,
>>>>>>> 00a1a1f2b5a4a096a5c5e53718760cd45ba089b4
   "metadata": {
    "ExecuteTime": {
     "end_time": "2025-01-13T10:57:01.230945Z",
     "start_time": "2025-01-13T10:57:01.214382Z"
    }
   },
   "source": [
    "# check number of cancelled orders based on 'TransactionNo'\n",
    "print(f\"number of cancelled orders: {df['TransactionNo'].str.contains('C').sum()}\")\n",
    "\n",
    "# check number of cancelled orders based on -1 on 'Quantity'\n",
    "print(f\"number of cancelled orders: {df[df['Quantity'] == -1].shape[0]}\")\n"
   ],
   "outputs": [
    {
     "name": "stdout",
     "output_type": "stream",
     "text": [
      "number of cancelled orders: 422\n",
      "number of cancelled orders: 178\n"
     ]
    }
   ],
   "execution_count": 6
  },
  {
   "cell_type": "code",
<<<<<<< HEAD
=======
   "execution_count": 7,
>>>>>>> 00a1a1f2b5a4a096a5c5e53718760cd45ba089b4
   "metadata": {
    "ExecuteTime": {
     "end_time": "2025-01-13T10:57:01.258520Z",
     "start_time": "2025-01-13T10:57:01.244477Z"
    }
   },
   "source": [
    "\"\"\"\n",
    "There is a transaction with 80k 'Quantity'\n",
    "\"\"\"\n",
    "\n",
    "df.sort_values('Quantity', ascending=False)"
   ],
   "outputs": [
    {
     "data": {
      "text/plain": [
       "      TransactionNo        Date ProductNo                     ProductName  \\\n",
       "142          581483  1575849600     23843       Paper Craft Little Birdie   \n",
       "6288         581458  1575763200     22197                  Popcorn Holder   \n",
       "21660        580363  1575244800     23582     Vintage Doily Jumbo Bag Red   \n",
       "8560         581175  1575676800     23084              Rabbit Night Light   \n",
       "7445         581115  1575676800     22413  Metal Sign Take It Or Leave It   \n",
       "...             ...         ...       ...                             ...   \n",
       "12238       C580913  1575590400     22536      Magic Drawing Slate Purdey   \n",
       "6511        C581406  1575763200    46000M    Polyester Filler Pad 45x45cm   \n",
       "12294       C580971  1575590400     22313          Office Mug Warmer Pink   \n",
       "6512        C581406  1575763200    46000S    Polyester Filler Pad 40x40cm   \n",
       "1616        C581484  1575849600     23843       Paper Craft Little Birdie   \n",
       "\n",
       "       Price  Quantity  CustomerNo         Country  \n",
       "142    12.38     80995     16446.0  United Kingdom  \n",
       "6288    6.04      1500     17949.0  United Kingdom  \n",
       "21660   6.19      1500     13868.0  United Kingdom  \n",
       "8560    6.19      1440     14646.0     Netherlands  \n",
       "7445    6.19      1404     15195.0  United Kingdom  \n",
       "...      ...       ...         ...             ...  \n",
       "12238   6.19      -120     17857.0  United Kingdom  \n",
       "6511    6.19      -240         NaN  United Kingdom  \n",
       "12294   6.19      -250     14298.0  United Kingdom  \n",
       "6512    6.19      -300         NaN  United Kingdom  \n",
       "1616    6.19    -80995     16446.0  United Kingdom  \n",
       "\n",
       "[30000 rows x 8 columns]"
      ],
      "text/html": [
       "<div>\n",
       "<style scoped>\n",
       "    .dataframe tbody tr th:only-of-type {\n",
       "        vertical-align: middle;\n",
       "    }\n",
       "\n",
       "    .dataframe tbody tr th {\n",
       "        vertical-align: top;\n",
       "    }\n",
       "\n",
       "    .dataframe thead th {\n",
       "        text-align: right;\n",
       "    }\n",
       "</style>\n",
       "<table border=\"1\" class=\"dataframe\">\n",
       "  <thead>\n",
       "    <tr style=\"text-align: right;\">\n",
       "      <th></th>\n",
       "      <th>TransactionNo</th>\n",
       "      <th>Date</th>\n",
       "      <th>ProductNo</th>\n",
       "      <th>ProductName</th>\n",
       "      <th>Price</th>\n",
       "      <th>Quantity</th>\n",
       "      <th>CustomerNo</th>\n",
       "      <th>Country</th>\n",
       "    </tr>\n",
       "  </thead>\n",
       "  <tbody>\n",
       "    <tr>\n",
       "      <th>142</th>\n",
       "      <td>581483</td>\n",
       "      <td>1575849600</td>\n",
       "      <td>23843</td>\n",
       "      <td>Paper Craft Little Birdie</td>\n",
       "      <td>12.38</td>\n",
       "      <td>80995</td>\n",
       "      <td>16446.0</td>\n",
       "      <td>United Kingdom</td>\n",
       "    </tr>\n",
       "    <tr>\n",
       "      <th>6288</th>\n",
       "      <td>581458</td>\n",
       "      <td>1575763200</td>\n",
       "      <td>22197</td>\n",
       "      <td>Popcorn Holder</td>\n",
       "      <td>6.04</td>\n",
       "      <td>1500</td>\n",
       "      <td>17949.0</td>\n",
       "      <td>United Kingdom</td>\n",
       "    </tr>\n",
       "    <tr>\n",
       "      <th>21660</th>\n",
       "      <td>580363</td>\n",
       "      <td>1575244800</td>\n",
       "      <td>23582</td>\n",
       "      <td>Vintage Doily Jumbo Bag Red</td>\n",
       "      <td>6.19</td>\n",
       "      <td>1500</td>\n",
       "      <td>13868.0</td>\n",
       "      <td>United Kingdom</td>\n",
       "    </tr>\n",
       "    <tr>\n",
       "      <th>8560</th>\n",
       "      <td>581175</td>\n",
       "      <td>1575676800</td>\n",
       "      <td>23084</td>\n",
       "      <td>Rabbit Night Light</td>\n",
       "      <td>6.19</td>\n",
       "      <td>1440</td>\n",
       "      <td>14646.0</td>\n",
       "      <td>Netherlands</td>\n",
       "    </tr>\n",
       "    <tr>\n",
       "      <th>7445</th>\n",
       "      <td>581115</td>\n",
       "      <td>1575676800</td>\n",
       "      <td>22413</td>\n",
       "      <td>Metal Sign Take It Or Leave It</td>\n",
       "      <td>6.19</td>\n",
       "      <td>1404</td>\n",
       "      <td>15195.0</td>\n",
       "      <td>United Kingdom</td>\n",
       "    </tr>\n",
       "    <tr>\n",
       "      <th>...</th>\n",
       "      <td>...</td>\n",
       "      <td>...</td>\n",
       "      <td>...</td>\n",
       "      <td>...</td>\n",
       "      <td>...</td>\n",
       "      <td>...</td>\n",
       "      <td>...</td>\n",
       "      <td>...</td>\n",
       "    </tr>\n",
       "    <tr>\n",
       "      <th>12238</th>\n",
       "      <td>C580913</td>\n",
       "      <td>1575590400</td>\n",
       "      <td>22536</td>\n",
       "      <td>Magic Drawing Slate Purdey</td>\n",
       "      <td>6.19</td>\n",
       "      <td>-120</td>\n",
       "      <td>17857.0</td>\n",
       "      <td>United Kingdom</td>\n",
       "    </tr>\n",
       "    <tr>\n",
       "      <th>6511</th>\n",
       "      <td>C581406</td>\n",
       "      <td>1575763200</td>\n",
       "      <td>46000M</td>\n",
       "      <td>Polyester Filler Pad 45x45cm</td>\n",
       "      <td>6.19</td>\n",
       "      <td>-240</td>\n",
       "      <td>NaN</td>\n",
       "      <td>United Kingdom</td>\n",
       "    </tr>\n",
       "    <tr>\n",
       "      <th>12294</th>\n",
       "      <td>C580971</td>\n",
       "      <td>1575590400</td>\n",
       "      <td>22313</td>\n",
       "      <td>Office Mug Warmer Pink</td>\n",
       "      <td>6.19</td>\n",
       "      <td>-250</td>\n",
       "      <td>14298.0</td>\n",
       "      <td>United Kingdom</td>\n",
       "    </tr>\n",
       "    <tr>\n",
       "      <th>6512</th>\n",
       "      <td>C581406</td>\n",
       "      <td>1575763200</td>\n",
       "      <td>46000S</td>\n",
       "      <td>Polyester Filler Pad 40x40cm</td>\n",
       "      <td>6.19</td>\n",
       "      <td>-300</td>\n",
       "      <td>NaN</td>\n",
       "      <td>United Kingdom</td>\n",
       "    </tr>\n",
       "    <tr>\n",
       "      <th>1616</th>\n",
       "      <td>C581484</td>\n",
       "      <td>1575849600</td>\n",
       "      <td>23843</td>\n",
       "      <td>Paper Craft Little Birdie</td>\n",
       "      <td>6.19</td>\n",
       "      <td>-80995</td>\n",
       "      <td>16446.0</td>\n",
       "      <td>United Kingdom</td>\n",
       "    </tr>\n",
       "  </tbody>\n",
       "</table>\n",
       "<p>30000 rows × 8 columns</p>\n",
       "</div>"
      ]
     },
     "execution_count": 7,
     "metadata": {},
     "output_type": "execute_result"
    }
   ],
   "execution_count": 7
  },
  {
   "cell_type": "code",
<<<<<<< HEAD
=======
   "execution_count": 8,
>>>>>>> 00a1a1f2b5a4a096a5c5e53718760cd45ba089b4
   "metadata": {
    "ExecuteTime": {
     "end_time": "2025-01-13T10:57:01.346299Z",
     "start_time": "2025-01-13T10:57:01.327226Z"
    }
   },
   "source": [
    "\"\"\"\n",
    "Recheck the cancelled orders\n",
    "\n",
    "It can be observed that the order is cancelled\n",
    "\"\"\"\n",
    "\n",
    "df[df['Quantity'] < 0].sort_values('Quantity', ascending=True)"
   ],
   "outputs": [
    {
     "data": {
      "text/plain": [
       "      TransactionNo        Date ProductNo  \\\n",
       "1616        C581484  1575849600     23843   \n",
       "6512        C581406  1575763200    46000S   \n",
       "12294       C580971  1575590400     22313   \n",
       "6511        C581406  1575763200    46000M   \n",
       "12238       C580913  1575590400     22536   \n",
       "...             ...         ...       ...   \n",
       "6497        C581305  1575763200     22627   \n",
       "6496        C581235  1575763200     22423   \n",
       "6495        C581235  1575763200     23273   \n",
       "6492        C581235  1575763200     23243   \n",
       "1620        C581569  1575849600     84978   \n",
       "\n",
       "                               ProductName  Price  Quantity  CustomerNo  \\\n",
       "1616             Paper Craft Little Birdie   6.19    -80995     16446.0   \n",
       "6512          Polyester Filler Pad 40x40cm   6.19      -300         NaN   \n",
       "12294               Office Mug Warmer Pink   6.19      -250     14298.0   \n",
       "6511          Polyester Filler Pad 45x45cm   6.19      -240         NaN   \n",
       "12238           Magic Drawing Slate Purdey   6.19      -120     17857.0   \n",
       "...                                    ...    ...       ...         ...   \n",
       "6497                   Mint Kitchen Scales   6.19        -1     16933.0   \n",
       "6496              Regency Cakestand 3 Tier   6.19        -1     15950.0   \n",
       "6495    Heart T-Light Holder Willie Winkie   6.19        -1     15950.0   \n",
       "6492   Set Of Tea Coffee Sugar Tins Pantry   6.19        -1     15950.0   \n",
       "1620      Hanging Heart Jar T-Light Holder   6.19        -1     17315.0   \n",
       "\n",
       "              Country  \n",
       "1616   United Kingdom  \n",
       "6512   United Kingdom  \n",
       "12294  United Kingdom  \n",
       "6511   United Kingdom  \n",
       "12238  United Kingdom  \n",
       "...               ...  \n",
       "6497   United Kingdom  \n",
       "6496   United Kingdom  \n",
       "6495   United Kingdom  \n",
       "6492   United Kingdom  \n",
       "1620   United Kingdom  \n",
       "\n",
       "[422 rows x 8 columns]"
      ],
      "text/html": [
       "<div>\n",
       "<style scoped>\n",
       "    .dataframe tbody tr th:only-of-type {\n",
       "        vertical-align: middle;\n",
       "    }\n",
       "\n",
       "    .dataframe tbody tr th {\n",
       "        vertical-align: top;\n",
       "    }\n",
       "\n",
       "    .dataframe thead th {\n",
       "        text-align: right;\n",
       "    }\n",
       "</style>\n",
       "<table border=\"1\" class=\"dataframe\">\n",
       "  <thead>\n",
       "    <tr style=\"text-align: right;\">\n",
       "      <th></th>\n",
       "      <th>TransactionNo</th>\n",
       "      <th>Date</th>\n",
       "      <th>ProductNo</th>\n",
       "      <th>ProductName</th>\n",
       "      <th>Price</th>\n",
       "      <th>Quantity</th>\n",
       "      <th>CustomerNo</th>\n",
       "      <th>Country</th>\n",
       "    </tr>\n",
       "  </thead>\n",
       "  <tbody>\n",
       "    <tr>\n",
       "      <th>1616</th>\n",
       "      <td>C581484</td>\n",
       "      <td>1575849600</td>\n",
       "      <td>23843</td>\n",
       "      <td>Paper Craft Little Birdie</td>\n",
       "      <td>6.19</td>\n",
       "      <td>-80995</td>\n",
       "      <td>16446.0</td>\n",
       "      <td>United Kingdom</td>\n",
       "    </tr>\n",
       "    <tr>\n",
       "      <th>6512</th>\n",
       "      <td>C581406</td>\n",
       "      <td>1575763200</td>\n",
       "      <td>46000S</td>\n",
       "      <td>Polyester Filler Pad 40x40cm</td>\n",
       "      <td>6.19</td>\n",
       "      <td>-300</td>\n",
       "      <td>NaN</td>\n",
       "      <td>United Kingdom</td>\n",
       "    </tr>\n",
       "    <tr>\n",
       "      <th>12294</th>\n",
       "      <td>C580971</td>\n",
       "      <td>1575590400</td>\n",
       "      <td>22313</td>\n",
       "      <td>Office Mug Warmer Pink</td>\n",
       "      <td>6.19</td>\n",
       "      <td>-250</td>\n",
       "      <td>14298.0</td>\n",
       "      <td>United Kingdom</td>\n",
       "    </tr>\n",
       "    <tr>\n",
       "      <th>6511</th>\n",
       "      <td>C581406</td>\n",
       "      <td>1575763200</td>\n",
       "      <td>46000M</td>\n",
       "      <td>Polyester Filler Pad 45x45cm</td>\n",
       "      <td>6.19</td>\n",
       "      <td>-240</td>\n",
       "      <td>NaN</td>\n",
       "      <td>United Kingdom</td>\n",
       "    </tr>\n",
       "    <tr>\n",
       "      <th>12238</th>\n",
       "      <td>C580913</td>\n",
       "      <td>1575590400</td>\n",
       "      <td>22536</td>\n",
       "      <td>Magic Drawing Slate Purdey</td>\n",
       "      <td>6.19</td>\n",
       "      <td>-120</td>\n",
       "      <td>17857.0</td>\n",
       "      <td>United Kingdom</td>\n",
       "    </tr>\n",
       "    <tr>\n",
       "      <th>...</th>\n",
       "      <td>...</td>\n",
       "      <td>...</td>\n",
       "      <td>...</td>\n",
       "      <td>...</td>\n",
       "      <td>...</td>\n",
       "      <td>...</td>\n",
       "      <td>...</td>\n",
       "      <td>...</td>\n",
       "    </tr>\n",
       "    <tr>\n",
       "      <th>6497</th>\n",
       "      <td>C581305</td>\n",
       "      <td>1575763200</td>\n",
       "      <td>22627</td>\n",
       "      <td>Mint Kitchen Scales</td>\n",
       "      <td>6.19</td>\n",
       "      <td>-1</td>\n",
       "      <td>16933.0</td>\n",
       "      <td>United Kingdom</td>\n",
       "    </tr>\n",
       "    <tr>\n",
       "      <th>6496</th>\n",
       "      <td>C581235</td>\n",
       "      <td>1575763200</td>\n",
       "      <td>22423</td>\n",
       "      <td>Regency Cakestand 3 Tier</td>\n",
       "      <td>6.19</td>\n",
       "      <td>-1</td>\n",
       "      <td>15950.0</td>\n",
       "      <td>United Kingdom</td>\n",
       "    </tr>\n",
       "    <tr>\n",
       "      <th>6495</th>\n",
       "      <td>C581235</td>\n",
       "      <td>1575763200</td>\n",
       "      <td>23273</td>\n",
       "      <td>Heart T-Light Holder Willie Winkie</td>\n",
       "      <td>6.19</td>\n",
       "      <td>-1</td>\n",
       "      <td>15950.0</td>\n",
       "      <td>United Kingdom</td>\n",
       "    </tr>\n",
       "    <tr>\n",
       "      <th>6492</th>\n",
       "      <td>C581235</td>\n",
       "      <td>1575763200</td>\n",
       "      <td>23243</td>\n",
       "      <td>Set Of Tea Coffee Sugar Tins Pantry</td>\n",
       "      <td>6.19</td>\n",
       "      <td>-1</td>\n",
       "      <td>15950.0</td>\n",
       "      <td>United Kingdom</td>\n",
       "    </tr>\n",
       "    <tr>\n",
       "      <th>1620</th>\n",
       "      <td>C581569</td>\n",
       "      <td>1575849600</td>\n",
       "      <td>84978</td>\n",
       "      <td>Hanging Heart Jar T-Light Holder</td>\n",
       "      <td>6.19</td>\n",
       "      <td>-1</td>\n",
       "      <td>17315.0</td>\n",
       "      <td>United Kingdom</td>\n",
       "    </tr>\n",
       "  </tbody>\n",
       "</table>\n",
       "<p>422 rows × 8 columns</p>\n",
       "</div>"
      ]
     },
     "execution_count": 8,
     "metadata": {},
     "output_type": "execute_result"
    }
   ],
   "execution_count": 8
  },
  {
   "cell_type": "code",
<<<<<<< HEAD
   "metadata": {
    "ExecuteTime": {
     "end_time": "2025-01-13T10:57:01.803588Z",
     "start_time": "2025-01-13T10:57:01.544609Z"
    }
   },
   "source": [
    "# Correlation diagram date, price, dan quantity\n",
    "matrix = df[['Date', 'Price', 'Quantity']].corr()\n",
    "print(matrix)\n",
    "\n",
    "plt.imshow(matrix, cmap=\"Blues\")\n",
    "plt.colorbar()"
   ],
=======
   "execution_count": 9,
   "metadata": {},
>>>>>>> 00a1a1f2b5a4a096a5c5e53718760cd45ba089b4
   "outputs": [
    {
     "name": "stdout",
     "output_type": "stream",
     "text": [
      "              Date     Price  Quantity\n",
      "Date      1.000000  0.050329 -0.000100\n",
      "Price     0.050329  1.000000  0.025011\n",
      "Quantity -0.000100  0.025011  1.000000\n"
     ]
    },
    {
     "data": {
      "text/plain": [
<<<<<<< HEAD
       "<matplotlib.colorbar.Colorbar at 0x14cb0634e90>"
=======
       "<matplotlib.colorbar.Colorbar at 0x176bf363730>"
>>>>>>> 00a1a1f2b5a4a096a5c5e53718760cd45ba089b4
      ]
     },
     "execution_count": 9,
     "metadata": {},
     "output_type": "execute_result"
    },
    {
     "data": {
      "text/plain": [
       "<Figure size 640x480 with 2 Axes>"
      ],
      "image/png": "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"
     },
     "metadata": {},
     "output_type": "display_data"
    }
   ],
   "execution_count": 9
  },
  {
   "cell_type": "code",
<<<<<<< HEAD
   "metadata": {
    "ExecuteTime": {
     "end_time": "2025-01-13T10:57:33.235314Z",
     "start_time": "2025-01-13T10:57:01.930629Z"
=======
   "execution_count": 10,
   "metadata": {},
   "outputs": [
    {
     "data": {
      "image/png": "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",
      "text/plain": [
       "<Figure size 432x288 with 1 Axes>"
      ]
     },
     "metadata": {
      "needs_background": "light"
     },
     "output_type": "display_data"
    },
    {
     "data": {
      "image/png": "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",
      "text/plain": [
       "<Figure size 432x288 with 1 Axes>"
      ]
     },
     "metadata": {
      "needs_background": "light"
     },
     "output_type": "display_data"
    },
    {
     "data": {
      "image/png": "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",
      "text/plain": [
       "<Figure size 432x288 with 1 Axes>"
      ]
     },
     "metadata": {
      "needs_background": "light"
     },
     "output_type": "display_data"
    },
    {
     "data": {
      "image/png": "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",
      "text/plain": [
       "<Figure size 432x288 with 1 Axes>"
      ]
     },
     "metadata": {
      "needs_background": "light"
     },
     "output_type": "display_data"
    },
    {
     "data": {
      "image/png": "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",
      "text/plain": [
       "<Figure size 432x288 with 1 Axes>"
      ]
     },
     "metadata": {
      "needs_background": "light"
     },
     "output_type": "display_data"
    },
    {
     "data": {
      "image/png": "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",
      "text/plain": [
       "<Figure size 432x288 with 1 Axes>"
      ]
     },
     "metadata": {
      "needs_background": "light"
     },
     "output_type": "display_data"
    },
    {
     "data": {
      "image/png": "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",
      "text/plain": [
       "<Figure size 432x288 with 1 Axes>"
      ]
     },
     "metadata": {
      "needs_background": "light"
     },
     "output_type": "display_data"
    },
    {
     "data": {
      "image/png": "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",
      "text/plain": [
       "<Figure size 432x288 with 1 Axes>"
      ]
     },
     "metadata": {
      "needs_background": "light"
     },
     "output_type": "display_data"
>>>>>>> 00a1a1f2b5a4a096a5c5e53718760cd45ba089b4
    }
   },
   "source": [
    "# Histogram feature\n",
    "for i in df.columns:\n",
    "    \n",
    "    plt.figure()\n",
    "    plt.title(f'{i}')\n",
    "    plt.hist(df[i])"
   ],
   "outputs": [
    {
     "data": {
      "text/plain": [
       "<Figure size 640x480 with 1 Axes>"
      ],
      "image/png": "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"
     },
     "metadata": {},
     "output_type": "display_data"
    },
    {
     "data": {
      "text/plain": [
       "<Figure size 640x480 with 1 Axes>"
      ],
      "image/png": "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"
     },
     "metadata": {},
     "output_type": "display_data"
    },
    {
     "data": {
      "text/plain": [
       "<Figure size 640x480 with 1 Axes>"
      ],
      "image/png": "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"
     },
     "metadata": {},
     "output_type": "display_data"
    },
    {
     "data": {
      "text/plain": [
       "<Figure size 640x480 with 1 Axes>"
      ],
      "image/png": "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"
     },
     "metadata": {},
     "output_type": "display_data"
    },
    {
     "data": {
      "text/plain": [
       "<Figure size 640x480 with 1 Axes>"
      ],
      "image/png": "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"
     },
     "metadata": {},
     "output_type": "display_data"
    },
    {
     "data": {
      "text/plain": [
       "<Figure size 640x480 with 1 Axes>"
      ],
      "image/png": "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"
     },
     "metadata": {},
     "output_type": "display_data"
    },
    {
     "data": {
      "text/plain": [
       "<Figure size 640x480 with 1 Axes>"
      ],
      "image/png": "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"
     },
     "metadata": {},
     "output_type": "display_data"
    },
    {
     "data": {
      "text/plain": [
       "<Figure size 640x480 with 1 Axes>"
      ],
      "image/png": "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"
     },
     "metadata": {},
     "output_type": "display_data"
    }
   ],
   "execution_count": 10
  },
  {
   "cell_type": "code",
<<<<<<< HEAD
   "metadata": {
    "ExecuteTime": {
     "end_time": "2025-01-13T10:57:33.303754Z",
     "start_time": "2025-01-13T10:57:33.284062Z"
    }
   },
   "source": [
    "# Skewness dan Kurtosis\n",
    "print(\"Date\\nSkewness:\", skew(df[['Date']]), \"\\nkurtosis:\", kurtosis(df[['Date']]))\n",
    "print(\"Price\\nSkewness:\", skew(df[['Price']]), \"\\nkurtosis:\", kurtosis(df[['Price']]))\n",
    "print(\"Quantity\\nSkewness:\", skew(df[['Quantity']]), \"\\nkurtosis:\", kurtosis(df[['Quantity']]))"
   ],
=======
   "execution_count": 11,
   "metadata": {},
>>>>>>> 00a1a1f2b5a4a096a5c5e53718760cd45ba089b4
   "outputs": [
    {
     "name": "stdout",
     "output_type": "stream",
     "text": [
      "Date\n",
      "Skewness: [-0.25707149] \n",
      "kurtosis: [-1.23305231]\n",
      "Price\n",
      "Skewness: [11.83956139] \n",
      "kurtosis: [245.38702169]\n",
      "Quantity\n",
      "Skewness: [-0.03799699] \n",
      "kurtosis: [14925.58867255]\n"
     ]
    }
   ],
   "execution_count": 11
  },
  {
   "cell_type": "markdown",
   "metadata": {},
   "source": [
    "## 2. Data Preprocessing"
   ]
  },
  {
   "cell_type": "code",
<<<<<<< HEAD
=======
   "execution_count": 12,
>>>>>>> 00a1a1f2b5a4a096a5c5e53718760cd45ba089b4
   "metadata": {
    "ExecuteTime": {
     "end_time": "2025-01-13T10:57:33.371092Z",
     "start_time": "2025-01-13T10:57:33.344341Z"
    }
   },
   "source": [
    "# remove duplicates value\n",
    "df_duplicates_removed = df.drop_duplicates()\n",
    "\n",
    "# remove missing values\n",
    "df_missing_values_removed = df_duplicates_removed.dropna()"
   ],
   "outputs": [],
   "execution_count": 12
  },
  {
   "cell_type": "code",
<<<<<<< HEAD
=======
   "execution_count": 13,
>>>>>>> 00a1a1f2b5a4a096a5c5e53718760cd45ba089b4
   "metadata": {
    "ExecuteTime": {
     "end_time": "2025-01-13T10:57:33.755882Z",
     "start_time": "2025-01-13T10:57:33.427692Z"
    }
   },
<<<<<<< HEAD
=======
   "outputs": [
    {
     "name": "stdout",
     "output_type": "stream",
     "text": [
      "shape before cancelled orders are removed: (29785, 8)\n"
     ]
    },
    {
     "name": "stderr",
     "output_type": "stream",
     "text": [
      "C:\\Users\\Aji\\AppData\\Local\\Temp\\ipykernel_18684\\2911879999.py:8: SettingWithCopyWarning: \n",
      "A value is trying to be set on a copy of a slice from a DataFrame.\n",
      "Try using .loc[row_indexer,col_indexer] = value instead\n",
      "\n",
      "See the caveats in the documentation: https://pandas.pydata.org/pandas-docs/stable/user_guide/indexing.html#returning-a-view-versus-a-copy\n",
      "  order_cancelled.loc[:, 'Quantity'] = order_cancelled['Quantity'] * -1\n"
     ]
    },
    {
     "name": "stdout",
     "output_type": "stream",
     "text": [
      "shape after cancelled orders are removed (step 1): (29366, 8)\n",
      "shape after cancelled orders are removed (step 2): (29322, 8)\n"
     ]
    }
   ],
>>>>>>> 00a1a1f2b5a4a096a5c5e53718760cd45ba089b4
   "source": [
    "print(f\"shape before cancelled orders are removed: {df_missing_values_removed.shape}\")\n",
    "\n",
    "# remove cancelled orders\n",
    "df_cancelled_orders_removed = df_missing_values_removed[~df_missing_values_removed['TransactionNo'].str.contains('C')]\n",
    "df_cancelled_orders_removed = df_missing_values_removed[df_missing_values_removed['Quantity'] > 0]\n",
    "\n",
    "order_cancelled = df_missing_values_removed[df_missing_values_removed['Quantity'] < 0]\n",
    "order_cancelled.loc[:, 'Quantity'] = order_cancelled['Quantity'] * -1\n",
    "\n",
    "print(f\"shape after cancelled orders are removed (step 1): {df_cancelled_orders_removed.shape}\")\n",
    "\n",
    "columns = ['ProductNo', 'Quantity', 'CustomerNo']\n",
    "\n",
    "df_merged = pd.merge(df_cancelled_orders_removed, order_cancelled,\n",
    "                     on=columns,\n",
    "                     how='inner', suffixes=('_df_cancelled_orders_removed', '_order_cancelled'))\n",
    "\n",
    "# Step 1: Create tuples for comparison\n",
    "df_cancelled_orders_removed_tuples = df_cancelled_orders_removed.apply(\n",
    "    lambda row: (row['TransactionNo'], row['ProductNo'], row['Quantity'], row['CustomerNo']), axis=1\n",
    ")\n",
    "df_merged_tuples = df_merged.apply(\n",
    "    lambda row: (\n",
    "        row['TransactionNo_df_cancelled_orders_removed'], row['ProductNo'], row['Quantity'], row['CustomerNo']), axis=1\n",
    ")\n",
    "rows_to_remove = df_cancelled_orders_removed_tuples.isin(df_merged_tuples)\n",
    "df_cancelled_orders_removed = df_cancelled_orders_removed[~rows_to_remove]\n",
    "\n",
    "print(f\"shape after cancelled orders are removed (step 2): {df_cancelled_orders_removed.shape}\")\n",
    "\n",
    "df_cancelled_orders_removed.sort_values('Quantity', ascending=False)\n",
    "\n",
    "df = df_cancelled_orders_removed"
<<<<<<< HEAD
   ],
   "outputs": [
    {
     "name": "stdout",
     "output_type": "stream",
     "text": [
      "shape before cancelled orders are removed: (29785, 8)\n",
      "shape after cancelled orders are removed (step 1): (29366, 8)\n",
      "shape after cancelled orders are removed (step 2): (29322, 8)\n"
     ]
    }
   ],
   "execution_count": 13
  },
  {
   "cell_type": "code",
   "metadata": {
    "ExecuteTime": {
     "end_time": "2025-01-13T10:57:33.801777Z",
     "start_time": "2025-01-13T10:57:33.788060Z"
    }
   },
=======
   ]
  },
  {
   "cell_type": "code",
   "execution_count": 14,
   "metadata": {},
   "outputs": [],
>>>>>>> 00a1a1f2b5a4a096a5c5e53718760cd45ba089b4
   "source": [
    "def IQR_method (df,n,features):\n",
    "    \"\"\"\n",
    "    Takes a dataframe and returns an index list corresponding to the observations\n",
    "    containing more than n outliers according to the Tukey IQR method.\n",
    "    \"\"\"\n",
    "    outlier_list = []\n",
    "\n",
    "    for column in features:\n",
    "        # 1st quartile (25%)\n",
    "        Q1 = np.percentile(df[column], 25)\n",
    "        # 3rd quartile (75%)\n",
    "        Q3 = np.percentile(df[column],75)\n",
    "\n",
    "        # Interquartile range (IQR)\n",
    "        IQR = Q3 - Q1\n",
    "\n",
    "        # outlier step\n",
    "        outlier_step = 1.5 * IQR\n",
    "\n",
    "        # Determining a list of indices of outliers\n",
    "        outlier_list_column = df[(df[column] < Q1 - outlier_step) | (df[column] > Q3 + outlier_step )].index\n",
    "\n",
    "        # appending the list of outliers\n",
    "        outlier_list.extend(outlier_list_column)\n",
    "\n",
    "    # selecting observations containing more than x outliers\n",
    "    outlier_list = Counter(outlier_list)\n",
    "    multiple_outliers = list( k for k, v in outlier_list.items() if v > n )\n",
    "\n",
    "    # Calculate the number of records below and above lower and above bound value respectively\n",
    "    out1 = df[df[column] < Q1 - outlier_step]\n",
    "    out2 = df[df[column] > Q3 + outlier_step]\n",
    "\n",
    "    print('Total number of outliers is:', out1.shape[0]+out2.shape[0])\n",
    "\n",
    "    return multiple_outliers"
   ],
   "outputs": [],
   "execution_count": 14
  },
  {
   "cell_type": "code",
<<<<<<< HEAD
   "metadata": {
    "ExecuteTime": {
     "end_time": "2025-01-13T10:57:33.888005Z",
     "start_time": "2025-01-13T10:57:33.834741Z"
    }
   },
   "source": [
    "# detecting outliers\n",
    "numeric_columns = (list(df.loc[:, ['Date', 'Price', 'Quantity']]))\n",
    "Outliers_IQR = IQR_method(df,1,numeric_columns)\n",
    "print(Outliers_IQR)\n",
    "\n",
    "# dropping outliers\n",
    "df_out = df.drop(Outliers_IQR, axis = 0).reset_index(drop=True)\n",
    "\n",
    "df = df_out\n",
    "df"
   ],
=======
   "execution_count": 15,
   "metadata": {},
>>>>>>> 00a1a1f2b5a4a096a5c5e53718760cd45ba089b4
   "outputs": [
    {
     "name": "stdout",
     "output_type": "stream",
     "text": [
      "Total number of outliers is: 2877\n",
      "[1, 5, 9, 16, 18, 19, 20, 21, 24, 25, 26, 27, 28, 29, 30, 31, 38, 39, 40, 41, 45, 48, 49, 51, 56, 57, 58, 59, 60, 61, 62, 64, 65, 66, 67, 68, 71, 72, 73, 75, 76, 81, 89, 94, 100, 111, 122, 123, 124, 134, 138, 139, 140, 141, 144, 153, 154, 161, 164, 165, 166, 492, 901, 967, 968, 973, 974, 983, 996, 997, 998, 999, 1255, 1258, 1260, 1264, 1265, 1276, 1278, 1281, 1296, 1314, 1316, 1485, 1486, 1535, 1537, 1539, 1554, 1556, 1569, 1570, 1571, 1572, 1574, 1577, 1580, 1649, 1650, 1652, 1656, 1657, 1660, 1661, 1662, 2059, 2245, 2338, 2341, 2342, 2343, 2475, 3126, 3147, 3148, 3151, 3153, 3186, 3240, 3242, 3245, 3246, 3247, 3447, 3596, 3597, 3598, 3599, 3604, 3727, 3732, 3997, 4024, 4263, 4789, 4790, 4794, 4795, 4800, 4801, 4802, 4803, 4804, 4808, 4852, 4854, 4859, 5050, 5051, 5085, 5086, 5087, 5102, 5103, 5127, 5284, 5299, 5300, 5301, 5302, 5313, 5315, 5318, 5320, 5412, 6197, 6198, 6199, 6200, 6201, 6202, 6203, 6204, 6205, 6279, 6281, 6282, 6283, 6284, 6285, 6286, 6287, 6288, 6289, 6324, 6641, 6644, 6711, 6722, 6723, 6725, 6730, 6783, 6784, 6794, 6795, 6796, 6797, 6801, 6810, 6823, 6827, 6829, 6830, 6831, 6832, 6833, 6838, 6839, 6885, 6886, 7184, 7316, 7320, 7321, 7350, 7392, 7397, 7473, 7498, 7499, 7500, 7506, 7507, 7526, 7528, 7546, 7721, 7723, 7724, 7742, 7744, 7745, 7748, 7749, 7751, 7752, 7760, 7815, 8386, 8387, 8388, 8389, 8390, 8391, 8392, 8396, 8470, 8474, 8487, 8488, 8489, 8522, 8523, 8524, 8525, 8526, 8527, 8528, 8529, 8530, 8531, 8534, 8535, 8536, 8537, 8538, 8539, 8540, 8541, 8542, 8579, 8582, 8586, 8587, 8590, 8609, 8612, 8635, 8657, 8659, 8668, 8669, 8701, 8702, 8903, 8906, 8907, 8911, 9036, 9039, 9040, 9193, 9194, 9200, 9212, 9213, 9214, 9218, 9230, 9231, 9232, 9257, 9263, 9272, 9365, 9366, 9448, 9532, 9533, 9543, 9548, 9551, 9552, 9554, 9558, 9577, 9585, 9586, 9651, 9734, 9735, 9876, 9877, 9878, 9879, 9880, 9881, 9882, 9883, 9884, 9885, 9887, 9888, 9889, 9891, 9917, 9918, 9925, 9930, 9931, 9938, 9939, 9940, 9946, 9948, 10053, 10054, 10055, 10056, 10062, 10095, 10098, 10099, 10100, 10103, 10113, 10138, 10332, 10333, 10334, 10335, 10354, 10408, 10409, 10505, 10506, 10509, 10531, 10636, 10755, 10763, 10764, 10765, 10768, 10769, 10774, 10775, 10914, 11010, 11019, 11022, 11101, 11139, 11142, 11144, 11145, 11146, 11150, 11230, 11232, 11233, 11238, 11239, 11240, 11241, 11245, 11292, 11643, 11979, 11980, 11983, 11984, 11985, 11986, 11987, 11989, 11991, 11992, 11994, 11996, 11998, 11999, 12325, 12339, 12340, 12372, 12376, 12386, 12387, 12388, 12389, 12410, 12482, 12541, 12549, 12566, 12575, 12577, 12590, 12592, 12610, 12617, 12628, 12630, 12639, 12684, 12687, 12690, 12691, 12693, 12704, 12705, 12710, 12712, 12746, 12795, 12798, 12919, 12925, 13167, 13300, 13301, 13444, 13459, 13513, 13538, 13539, 13540, 13611, 13612, 13645, 13708, 13719, 13792, 13898, 13899, 14186, 14200, 14201, 14202, 14211, 14212, 14215, 14216, 14221, 14222, 14227, 14229, 14230, 14231, 14232, 14234, 14235, 14236, 14237, 14238, 14239, 14240, 14241, 14242, 14243, 14244, 14245, 14246, 14247, 14248, 14249, 14250, 14255, 14278, 14329, 14375, 14409, 14410, 14411, 14413, 14434, 14435, 14436, 14437, 14438, 14472, 14473, 14474, 14475, 14476, 14477, 14478, 14479, 14480, 14481, 14483, 14484, 14485, 14486, 14487, 14488, 14489, 14490, 14491, 14492, 14493, 14494, 14537, 14565, 14685, 14687, 14720, 14721, 14728, 14729, 14730, 14731, 14732, 14733, 14734, 14735, 14763, 14946, 14986, 14989, 15001, 15016, 15020, 15021, 15023, 15038, 15039, 15042, 15049, 15051, 15053, 15060, 15062, 15095, 15103, 15109, 15111, 15116, 15117, 15118, 15123, 15125, 15126, 15128, 15129, 15130, 15131, 15169, 15175, 15176, 15177, 15182, 15185, 15188, 15189, 15193, 15195, 15196, 15200, 15203, 15204, 15344, 15388, 15392, 15400, 15421, 15422, 15423, 15424, 15428, 15431, 15438, 15447, 15456, 15463, 15464, 15466, 15468, 15470, 15471, 15472, 15473, 15474, 15475, 15476, 15477, 15547, 15548, 15560, 15563, 15568, 15578, 15579, 15580, 15581, 15585, 15593, 15594, 15595, 15602, 15608, 15609, 15611, 15612, 15613, 15615, 15616, 15617, 15623, 15624, 15627, 15788, 15795, 15836, 15997, 16058, 16108, 16109, 16155, 16161, 16287, 16319, 16342, 16393, 16394, 16406, 16537, 16723, 16772, 16773, 16857, 16886, 16974, 17024, 17056, 17135, 17248, 17253, 17519, 17697, 17704, 17705, 17711, 17713, 17716, 17861, 18113, 18117, 18122, 18123, 18124, 18125, 18126, 18127, 18128, 18403, 18433, 18810, 18819, 18874, 18879, 18934, 19049, 19087, 19088, 19091, 19093, 19094, 19095, 19136, 19137, 19140, 19391, 19393, 19394, 19560, 19563, 19714, 19715, 19721, 19744, 19871, 19886, 19887, 19888, 19899, 19905, 19917, 19918, 19998, 20004, 20005, 20012, 20090, 20255, 20299, 20321, 20329, 20371, 20478, 20479, 20695, 20715, 20857, 20905, 20906, 21106, 21306, 21501, 21535, 21561, 21564, 21565, 21567, 21903, 22005, 22041, 22410, 22476, 22485, 22486, 22487, 22540, 22546, 22547, 22548, 22549, 22550, 22551, 22552, 22553, 22554, 22556, 22557, 22559, 22636, 22637, 22669, 22670, 22705, 22706, 22707, 22708, 22709, 22710, 22733, 22736, 22737, 22794, 22797, 22863, 22864, 22866, 22870, 22883, 22966, 23038, 23102, 23489, 23490, 23491, 23492, 23568, 23569, 23570, 23571, 23572, 23588, 23595, 23606, 23612, 23860, 23861, 23862, 23863, 23867, 23871, 23872, 23873, 23874, 23900, 23975, 23976, 23977, 23978, 24038, 24048, 24049, 24050, 24055, 24056, 24057, 24058, 24059, 24061, 24062, 24063, 24093, 24094, 24099, 24248, 24743, 24744, 24745, 24746, 24747, 24748, 24749, 24752, 24753, 24754, 24755, 24756, 24757, 24759, 24760, 24761, 24768, 24769, 24772, 24775, 24776, 24953, 24954, 24955, 24980, 24981, 25031, 25042, 25373, 25376, 25377, 25378, 25379, 25380, 25381, 25382, 25449, 25488, 25494, 25497, 25498, 25499, 25501, 25563, 25567, 25728, 25813, 25820, 25821, 25823, 25827, 25832, 26034, 26039, 26040, 26041, 26220, 26318, 26336, 26337, 26338, 26355, 26425, 26435, 26442, 26455, 26456, 26457, 26458, 26459, 26460, 26461, 26462, 26463, 26464, 26465, 26466, 26467, 26468, 26470, 26472, 26474, 26483, 26545, 26547, 26551, 26578, 26697, 26699, 26700, 26702, 26704, 26705, 26707, 26709, 26710, 26711, 26733, 26829, 27045, 27183, 27188, 27251, 27817, 27906, 28067, 28090, 28245, 28248, 28252, 28253, 28257, 28262, 28307, 28321, 28335, 28336, 28337, 28338, 28339, 28341, 28345, 28409, 28410, 28440, 28474, 28475, 28476, 28477, 28478, 28479, 28482, 28519, 28521, 28527, 28528, 28540, 28542, 28621, 28803, 28804, 28818, 28824, 28825, 28827, 28865, 28870, 28871, 28918, 28958, 28959, 28960, 29054, 29055, 29068, 29069, 29070, 29081, 29082, 29083, 29163, 29164, 29165, 29177, 29182, 29184, 29186, 29203, 29204, 29205, 29208, 29219, 29519, 29520, 29521, 29522, 29618, 29625, 29629, 29639, 29643, 29645, 29646, 29648, 29649, 29652, 29653, 29661, 29674, 29676, 29677, 29687, 29689, 29690, 29702, 29755, 29758, 29759, 29760, 29761, 29762, 29763, 29764, 29765, 29766, 29767, 29768, 29769, 29902, 29903, 29904, 29906, 29907, 29924, 29932, 29936, 29940, 29953, 29954]\n"
     ]
    },
    {
     "data": {
      "text/plain": [
       "      TransactionNo        Date ProductNo                        ProductName  \\\n",
       "0            581482  1575849600     22485      Set Of 2 Wooden Market Crates   \n",
       "1            581475  1575849600     23235           Storage Tin Vintage Leaf   \n",
       "2            581475  1575849600     23272  Tree T-Light Holder Willie Winkie   \n",
       "3            581475  1575849600     23239  Set Of 4 Knick Knack Tins Poppies   \n",
       "4            581475  1575849600     22118           Joy Wooden Block Letters   \n",
       "...             ...         ...       ...                                ...   \n",
       "28265        579408  1574985600     22997      Travel Card Wallet Union Jack   \n",
       "28266        579408  1574985600     23000       Travel Card Wallet Transport   \n",
       "28267        579408  1574985600     23005   Travel Card Wallet I Love London   \n",
       "28268        579408  1574985600     23002          Travel Card Wallet Skulls   \n",
       "28269        579408  1574985600     22998       Travel Card Wallet Keep Calm   \n",
       "\n",
       "       Price  Quantity  CustomerNo         Country  \n",
       "0      21.47        12     17490.0  United Kingdom  \n",
       "1      11.53        12     13069.0  United Kingdom  \n",
       "2      10.65        12     13069.0  United Kingdom  \n",
       "3      11.94         6     13069.0  United Kingdom  \n",
       "4      11.53        18     13069.0  United Kingdom  \n",
       "...      ...       ...         ...             ...  \n",
       "28265   6.19         2     14701.0  United Kingdom  \n",
       "28266   6.04         4     14701.0  United Kingdom  \n",
       "28267   6.04         3     14701.0  United Kingdom  \n",
       "28268   6.04         5     14701.0  United Kingdom  \n",
       "28269   6.19         4     14701.0  United Kingdom  \n",
       "\n",
       "[28270 rows x 8 columns]"
      ],
      "text/html": [
       "<div>\n",
       "<style scoped>\n",
       "    .dataframe tbody tr th:only-of-type {\n",
       "        vertical-align: middle;\n",
       "    }\n",
       "\n",
       "    .dataframe tbody tr th {\n",
       "        vertical-align: top;\n",
       "    }\n",
       "\n",
       "    .dataframe thead th {\n",
       "        text-align: right;\n",
       "    }\n",
       "</style>\n",
       "<table border=\"1\" class=\"dataframe\">\n",
       "  <thead>\n",
       "    <tr style=\"text-align: right;\">\n",
       "      <th></th>\n",
       "      <th>TransactionNo</th>\n",
       "      <th>Date</th>\n",
       "      <th>ProductNo</th>\n",
       "      <th>ProductName</th>\n",
       "      <th>Price</th>\n",
       "      <th>Quantity</th>\n",
       "      <th>CustomerNo</th>\n",
       "      <th>Country</th>\n",
       "    </tr>\n",
       "  </thead>\n",
       "  <tbody>\n",
       "    <tr>\n",
       "      <th>0</th>\n",
       "      <td>581482</td>\n",
       "      <td>1575849600</td>\n",
       "      <td>22485</td>\n",
       "      <td>Set Of 2 Wooden Market Crates</td>\n",
       "      <td>21.47</td>\n",
       "      <td>12</td>\n",
       "      <td>17490.0</td>\n",
       "      <td>United Kingdom</td>\n",
       "    </tr>\n",
       "    <tr>\n",
       "      <th>1</th>\n",
       "      <td>581475</td>\n",
       "      <td>1575849600</td>\n",
       "      <td>23235</td>\n",
       "      <td>Storage Tin Vintage Leaf</td>\n",
       "      <td>11.53</td>\n",
       "      <td>12</td>\n",
       "      <td>13069.0</td>\n",
       "      <td>United Kingdom</td>\n",
       "    </tr>\n",
       "    <tr>\n",
       "      <th>2</th>\n",
       "      <td>581475</td>\n",
       "      <td>1575849600</td>\n",
       "      <td>23272</td>\n",
       "      <td>Tree T-Light Holder Willie Winkie</td>\n",
       "      <td>10.65</td>\n",
       "      <td>12</td>\n",
       "      <td>13069.0</td>\n",
       "      <td>United Kingdom</td>\n",
       "    </tr>\n",
       "    <tr>\n",
       "      <th>3</th>\n",
       "      <td>581475</td>\n",
       "      <td>1575849600</td>\n",
       "      <td>23239</td>\n",
       "      <td>Set Of 4 Knick Knack Tins Poppies</td>\n",
       "      <td>11.94</td>\n",
       "      <td>6</td>\n",
       "      <td>13069.0</td>\n",
       "      <td>United Kingdom</td>\n",
       "    </tr>\n",
       "    <tr>\n",
       "      <th>4</th>\n",
       "      <td>581475</td>\n",
       "      <td>1575849600</td>\n",
       "      <td>22118</td>\n",
       "      <td>Joy Wooden Block Letters</td>\n",
       "      <td>11.53</td>\n",
       "      <td>18</td>\n",
       "      <td>13069.0</td>\n",
       "      <td>United Kingdom</td>\n",
       "    </tr>\n",
       "    <tr>\n",
       "      <th>...</th>\n",
       "      <td>...</td>\n",
       "      <td>...</td>\n",
       "      <td>...</td>\n",
       "      <td>...</td>\n",
       "      <td>...</td>\n",
       "      <td>...</td>\n",
       "      <td>...</td>\n",
       "      <td>...</td>\n",
       "    </tr>\n",
       "    <tr>\n",
       "      <th>28265</th>\n",
       "      <td>579408</td>\n",
       "      <td>1574985600</td>\n",
       "      <td>22997</td>\n",
       "      <td>Travel Card Wallet Union Jack</td>\n",
       "      <td>6.19</td>\n",
       "      <td>2</td>\n",
       "      <td>14701.0</td>\n",
       "      <td>United Kingdom</td>\n",
       "    </tr>\n",
       "    <tr>\n",
       "      <th>28266</th>\n",
       "      <td>579408</td>\n",
       "      <td>1574985600</td>\n",
       "      <td>23000</td>\n",
       "      <td>Travel Card Wallet Transport</td>\n",
       "      <td>6.04</td>\n",
       "      <td>4</td>\n",
       "      <td>14701.0</td>\n",
       "      <td>United Kingdom</td>\n",
       "    </tr>\n",
       "    <tr>\n",
       "      <th>28267</th>\n",
       "      <td>579408</td>\n",
       "      <td>1574985600</td>\n",
       "      <td>23005</td>\n",
       "      <td>Travel Card Wallet I Love London</td>\n",
       "      <td>6.04</td>\n",
       "      <td>3</td>\n",
       "      <td>14701.0</td>\n",
       "      <td>United Kingdom</td>\n",
       "    </tr>\n",
       "    <tr>\n",
       "      <th>28268</th>\n",
       "      <td>579408</td>\n",
       "      <td>1574985600</td>\n",
       "      <td>23002</td>\n",
       "      <td>Travel Card Wallet Skulls</td>\n",
       "      <td>6.04</td>\n",
       "      <td>5</td>\n",
       "      <td>14701.0</td>\n",
       "      <td>United Kingdom</td>\n",
       "    </tr>\n",
       "    <tr>\n",
       "      <th>28269</th>\n",
       "      <td>579408</td>\n",
       "      <td>1574985600</td>\n",
       "      <td>22998</td>\n",
       "      <td>Travel Card Wallet Keep Calm</td>\n",
       "      <td>6.19</td>\n",
       "      <td>4</td>\n",
       "      <td>14701.0</td>\n",
       "      <td>United Kingdom</td>\n",
       "    </tr>\n",
       "  </tbody>\n",
       "</table>\n",
       "<p>28270 rows × 8 columns</p>\n",
       "</div>"
<<<<<<< HEAD
=======
      ],
      "text/plain": [
       "      TransactionNo        Date ProductNo                        ProductName  \\\n",
       "0            581482  1575849600     22485      Set Of 2 Wooden Market Crates   \n",
       "1            581475  1575849600     23235           Storage Tin Vintage Leaf   \n",
       "2            581475  1575849600     23272  Tree T-Light Holder Willie Winkie   \n",
       "3            581475  1575849600     23239  Set Of 4 Knick Knack Tins Poppies   \n",
       "4            581475  1575849600     22118           Joy Wooden Block Letters   \n",
       "...             ...         ...       ...                                ...   \n",
       "28265        579408  1574985600     22997      Travel Card Wallet Union Jack   \n",
       "28266        579408  1574985600     23000       Travel Card Wallet Transport   \n",
       "28267        579408  1574985600     23005   Travel Card Wallet I Love London   \n",
       "28268        579408  1574985600     23002          Travel Card Wallet Skulls   \n",
       "28269        579408  1574985600     22998       Travel Card Wallet Keep Calm   \n",
       "\n",
       "       Price  Quantity  CustomerNo         Country  \n",
       "0      21.47        12     17490.0  United Kingdom  \n",
       "1      11.53        12     13069.0  United Kingdom  \n",
       "2      10.65        12     13069.0  United Kingdom  \n",
       "3      11.94         6     13069.0  United Kingdom  \n",
       "4      11.53        18     13069.0  United Kingdom  \n",
       "...      ...       ...         ...             ...  \n",
       "28265   6.19         2     14701.0  United Kingdom  \n",
       "28266   6.04         4     14701.0  United Kingdom  \n",
       "28267   6.04         3     14701.0  United Kingdom  \n",
       "28268   6.04         5     14701.0  United Kingdom  \n",
       "28269   6.19         4     14701.0  United Kingdom  \n",
       "\n",
       "[28270 rows x 8 columns]"
>>>>>>> 00a1a1f2b5a4a096a5c5e53718760cd45ba089b4
      ]
     },
     "execution_count": 15,
     "metadata": {},
     "output_type": "execute_result"
    }
   ],
   "execution_count": 15
  },
  {
   "cell_type": "markdown",
   "metadata": {},
   "source": [
    "## 3. Modeling (Sequential Pattern Mining)"
   ]
  },
  {
   "cell_type": "code",
   "metadata": {
    "ExecuteTime": {
     "end_time": "2025-01-13T10:57:38.508866Z",
     "start_time": "2025-01-13T10:57:36.490380Z"
    }
   },
   "source": [
    "from itertools import combinations\n",
    "\n",
    "def calculate_expected_value(TP, FP, TN, FN):\n",
    "    cost_of_TP = 5\n",
    "    cost_of_FP = 0.001\n",
    "    cost_of_TN = 0\n",
    "    cost_of_FN = 0\n",
    "\n",
    "    return (cost_of_TP * TP + cost_of_FP * FP + cost_of_TN * TN + cost_of_FN * FN) / (TP + FP + TN + FN)\n",
    "\n",
    "\n",
    "df_prepared = df\n",
    "\n",
    "# Group products by transactions\n",
    "grouped_transactions = df_prepared.groupby('TransactionNo')['ProductNo'].apply(list).tolist()\n",
    "\n",
    "number_of_data = 0\n",
    "for transaction in grouped_transactions:\n",
    "    number_of_data += len(transaction)\n",
    "print(f\"number of data: {number_of_data}\")\n",
    "\n",
    "# Split into training and testing sets\n",
    "split_index = int(len(grouped_transactions) * 0.7)\n",
    "train_transactions = grouped_transactions[:split_index]\n",
    "test_transactions = grouped_transactions[split_index:]\n",
    "\n",
    "# # Sequential pattern mining on training data\n",
    "min_support = 10\n",
    "frequent_patterns = list(seqmining.freq_seq_enum(train_transactions, min_support))\n",
    "\n",
    "# Evaluate patterns on the test set\n",
    "TP = 0\n",
    "FP = 0\n",
    "TN = 0\n",
    "FN = 0\n",
    "\n",
    "pair_hash = {}\n",
    "individual_hash = {}\n",
    "for pattern, support in frequent_patterns:\n",
    "    if len(pattern) > 1:\n",
    "        for pair in combinations(pattern, 2):\n",
    "            pair_hash[f\"{str(pair[0])}:{str(pair[1])}\"] = True\n",
    "\n",
    "            individual_hash[str(pair[0])] = True\n",
    "            individual_hash[str(pair[1])] = True\n",
    "\n",
    "for transaction in test_transactions:\n",
    "    is_found = False\n",
    "    is_in_individual_hash = False\n",
    "    for pair in combinations(transaction, 2):\n",
    "        if str(pair[0]) in individual_hash or str(pair[1]) in individual_hash:\n",
    "            is_in_individual_hash = True\n",
    "\n",
    "        if f\"{str(pair[0])}:{str(pair[1])}\" in pair_hash or f\"{str(pair[1])}:{str(pair[0])}\" in pair_hash:\n",
    "            is_found = True\n",
    "\n",
    "    if is_in_individual_hash and is_found:\n",
    "        TP += 1\n",
    "\n",
    "    if is_in_individual_hash and not is_found:\n",
    "        FP += 1\n",
    "\n",
    "    if not is_in_individual_hash and is_found:\n",
    "        FN += 1\n",
    "\n",
    "    if not is_in_individual_hash and not is_found:\n",
    "        TN += 1\n",
    "\n",
    "# Performance Metrics\n",
    "accuracy = (TP + TN) / (TP + FP + TN + FN)\n",
    "precision = TP / (TP + FP) if TP + FP > 0 else 0\n",
    "recall = TP / (TP + FP) if TP + FP > 0 else 0\n",
    "f1_score = (2 * precision * recall) / (precision + recall) if precision + recall > 0 else 0\n",
    "\n",
    "# Display Results\n",
    "print(f\"True Positives (TP): {TP}\")\n",
    "print(f\"False Positives (FP): {FP}\")\n",
    "print(f\"False Negatives (FN): {FN}\")\n",
    "print(f\"True Negatives (TN): {TN}\")\n",
    "print(f\"Accuracy: {accuracy:.2f}\")\n",
    "print(f\"Precision: {precision:.2f}\")\n",
    "print(f\"Recall: {recall:.2f}\")\n",
    "print(f\"F1-Score: {f1_score:.2f}\")\n",
    "print(f\"EV = ${calculate_expected_value(TP, FP, TN, FN):.2f}\")"
   ],
   "outputs": [
    {
     "name": "stdout",
     "output_type": "stream",
     "text": [
      "number of data: 28270\n",
      "True Positives (TP): 173\n",
      "False Positives (FP): 77\n",
      "False Negatives (FN): 0\n",
      "True Negatives (TN): 38\n",
      "Accuracy: 0.73\n",
      "Precision: 0.69\n",
      "Recall: 0.69\n",
      "F1-Score: 0.69\n",
      "EV = $3.00\n"
     ]
    }
   ],
   "execution_count": 17
  }
 ],
 "metadata": {
  "colab": {
   "provenance": []
  },
  "kaggle": {
   "accelerator": "none",
   "dataSources": [
    {
     "databundleVersionId": 6475798,
     "sourceId": 60002,
     "sourceType": "competition"
    }
   ],
   "dockerImageVersionId": 30553,
   "isGpuEnabled": false,
   "isInternetEnabled": true,
   "language": "python",
   "sourceType": "notebook"
  },
  "kernelspec": {
   "display_name": "Python 3",
   "language": "python",
   "name": "python3"
  },
  "language_info": {
   "codemirror_mode": {
    "name": "ipython",
    "version": 3
   },
   "file_extension": ".py",
   "mimetype": "text/x-python",
   "name": "python",
   "nbconvert_exporter": "python",
   "pygments_lexer": "ipython3",
   "version": "3.9.1"
  }
 },
 "nbformat": 4,
 "nbformat_minor": 0
}
